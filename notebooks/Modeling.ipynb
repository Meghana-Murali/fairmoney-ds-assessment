{
 "cells": [
  {
   "cell_type": "markdown",
   "id": "22df1944-a6a0-4d5e-84eb-0df487b95dbe",
   "metadata": {},
   "source": [
    "# Goal:\n",
    "\n",
    "#### The goal of this notebook is to analyze the provided credit.csv dataset and build a machine learning model to predict loan default. The process will cover Exploratory Data Analysis (EDA), model training, evaluation, and an estimation of the business impact."
   ]
  },
  {
   "cell_type": "code",
   "execution_count": 1,
   "id": "33afe776-13d6-4aa0-9193-2c6b7e9db4f8",
   "metadata": {
    "execution": {
     "iopub.execute_input": "2025-08-05T07:57:12.174347Z",
     "iopub.status.busy": "2025-08-05T07:57:12.174191Z",
     "iopub.status.idle": "2025-08-05T07:57:13.522325Z",
     "shell.execute_reply": "2025-08-05T07:57:13.522068Z",
     "shell.execute_reply.started": "2025-08-05T07:57:12.174319Z"
    }
   },
   "outputs": [],
   "source": [
    "import pandas as pd\n",
    "import numpy as np\n",
    "import matplotlib.pyplot as plt\n",
    "import seaborn as sns\n",
    "import re\n",
    "\n",
    "import sklearn\n",
    "from sklearn.model_selection import train_test_split, RandomizedSearchCV, StratifiedKFold\n",
    "from sklearn.linear_model import LogisticRegression\n",
    "from sklearn.metrics import classification_report, roc_auc_score, confusion_matrix\n",
    "from sklearn.preprocessing import StandardScaler\n",
    "import xgboost as xgb\n",
    "\n",
    "import warnings\n",
    "warnings.filterwarnings('ignore')"
   ]
  },
  {
   "cell_type": "code",
   "execution_count": 2,
   "id": "6760a9ce-f909-42a3-a101-8968bad6ff57",
   "metadata": {
    "execution": {
     "iopub.execute_input": "2025-08-05T07:57:13.522758Z",
     "iopub.status.busy": "2025-08-05T07:57:13.522633Z",
     "iopub.status.idle": "2025-08-05T07:57:13.524756Z",
     "shell.execute_reply": "2025-08-05T07:57:13.524541Z",
     "shell.execute_reply.started": "2025-08-05T07:57:13.522750Z"
    }
   },
   "outputs": [],
   "source": [
    "# Using the pre-built style sheet that's great for dark themes\n",
    "plt.style.use('dark_background')\n",
    "\n",
    "# Customizing the style for maximum readability\n",
    "plt.rcParams.update({\n",
    "    \"figure.facecolor\":  (0.2, 0.2, 0.2, 0.0),  # Transparent figure background\n",
    "    \"axes.facecolor\":    (0.2, 0.2, 0.2, 0.0),  # Transparent axes background\n",
    "    \"savefig.facecolor\": (0.2, 0.2, 0.2, 0.0),  # Transparent background when saving\n",
    "    \"text.color\":        \"white\",              # White text for titles, labels, etc.\n",
    "    \"axes.labelcolor\":   \"white\",              # White color for axis labels\n",
    "    \"xtick.color\":       \"white\",              # White color for x-axis ticks\n",
    "    \"ytick.color\":       \"white\",              # White color for y-axis ticks\n",
    "    \"legend.loc\":        \"upper left\",         # Move legend to a better spot\n",
    "    \"legend.frameon\":    False,                # Remove the box around the legend\n",
    "})\n",
    "\n",
    "# A light, desaturated blue for 'good' loans and a vibrant teal for 'bad' loans (defaults)\n",
    "default_var_colours = ['#A8EEFF', '#0073e6'] # Light Blue, Dark Washed Azure"
   ]
  },
  {
   "cell_type": "markdown",
   "id": "717cf142-0c28-45d6-a7c5-ed72b1047d0e",
   "metadata": {
    "jp-MarkdownHeadingCollapsed": true
   },
   "source": [
    "## Data Loading"
   ]
  },
  {
   "cell_type": "code",
   "execution_count": 3,
   "id": "f1694bdc-2c81-4267-a8b0-72c1d1992a48",
   "metadata": {
    "execution": {
     "iopub.execute_input": "2025-08-05T07:57:13.525729Z",
     "iopub.status.busy": "2025-08-05T07:57:13.525663Z",
     "iopub.status.idle": "2025-08-05T07:57:13.542309Z",
     "shell.execute_reply": "2025-08-05T07:57:13.542077Z",
     "shell.execute_reply.started": "2025-08-05T07:57:13.525722Z"
    },
    "scrolled": true
   },
   "outputs": [
    {
     "data": {
      "text/html": [
       "<div>\n",
       "<style scoped>\n",
       "    .dataframe tbody tr th:only-of-type {\n",
       "        vertical-align: middle;\n",
       "    }\n",
       "\n",
       "    .dataframe tbody tr th {\n",
       "        vertical-align: top;\n",
       "    }\n",
       "\n",
       "    .dataframe thead th {\n",
       "        text-align: right;\n",
       "    }\n",
       "</style>\n",
       "<table border=\"1\" class=\"dataframe\">\n",
       "  <thead>\n",
       "    <tr style=\"text-align: right;\">\n",
       "      <th></th>\n",
       "      <th>Unnamed: 0</th>\n",
       "      <th>checking_balance</th>\n",
       "      <th>months_loan_duration</th>\n",
       "      <th>credit_history</th>\n",
       "      <th>purpose</th>\n",
       "      <th>amount</th>\n",
       "      <th>savings_balance</th>\n",
       "      <th>employment_length</th>\n",
       "      <th>installment_rate</th>\n",
       "      <th>personal_status</th>\n",
       "      <th>...</th>\n",
       "      <th>age</th>\n",
       "      <th>installment_plan</th>\n",
       "      <th>housing</th>\n",
       "      <th>existing_credits</th>\n",
       "      <th>default</th>\n",
       "      <th>dependents</th>\n",
       "      <th>telephone</th>\n",
       "      <th>foreign_worker</th>\n",
       "      <th>job</th>\n",
       "      <th>gender</th>\n",
       "    </tr>\n",
       "  </thead>\n",
       "  <tbody>\n",
       "    <tr>\n",
       "      <th>0</th>\n",
       "      <td>0</td>\n",
       "      <td>-43.0</td>\n",
       "      <td>6</td>\n",
       "      <td>critical</td>\n",
       "      <td>radio/tv</td>\n",
       "      <td>1169</td>\n",
       "      <td>NaN</td>\n",
       "      <td>13 years</td>\n",
       "      <td>4</td>\n",
       "      <td>single</td>\n",
       "      <td>...</td>\n",
       "      <td>67</td>\n",
       "      <td>none</td>\n",
       "      <td>own</td>\n",
       "      <td>2</td>\n",
       "      <td>0</td>\n",
       "      <td>1</td>\n",
       "      <td>+2349339647</td>\n",
       "      <td>yes</td>\n",
       "      <td>skilled employee</td>\n",
       "      <td>male</td>\n",
       "    </tr>\n",
       "    <tr>\n",
       "      <th>1</th>\n",
       "      <td>1</td>\n",
       "      <td>75.0</td>\n",
       "      <td>48</td>\n",
       "      <td>repaid</td>\n",
       "      <td>radio/tv</td>\n",
       "      <td>5951</td>\n",
       "      <td>89.0</td>\n",
       "      <td>2 years</td>\n",
       "      <td>2</td>\n",
       "      <td>NaN</td>\n",
       "      <td>...</td>\n",
       "      <td>22</td>\n",
       "      <td>none</td>\n",
       "      <td>own</td>\n",
       "      <td>1</td>\n",
       "      <td>1</td>\n",
       "      <td>1</td>\n",
       "      <td>NaN</td>\n",
       "      <td>yes</td>\n",
       "      <td>skilled employee</td>\n",
       "      <td>female</td>\n",
       "    </tr>\n",
       "    <tr>\n",
       "      <th>2</th>\n",
       "      <td>2</td>\n",
       "      <td>NaN</td>\n",
       "      <td>12</td>\n",
       "      <td>critical</td>\n",
       "      <td>education</td>\n",
       "      <td>2096</td>\n",
       "      <td>24.0</td>\n",
       "      <td>5 years</td>\n",
       "      <td>2</td>\n",
       "      <td>single</td>\n",
       "      <td>...</td>\n",
       "      <td>49</td>\n",
       "      <td>none</td>\n",
       "      <td>own</td>\n",
       "      <td>1</td>\n",
       "      <td>0</td>\n",
       "      <td>2</td>\n",
       "      <td>NaN</td>\n",
       "      <td>yes</td>\n",
       "      <td>unskilled resident</td>\n",
       "      <td>male</td>\n",
       "    </tr>\n",
       "    <tr>\n",
       "      <th>3</th>\n",
       "      <td>3</td>\n",
       "      <td>-32.0</td>\n",
       "      <td>42</td>\n",
       "      <td>repaid</td>\n",
       "      <td>furniture</td>\n",
       "      <td>7882</td>\n",
       "      <td>9.0</td>\n",
       "      <td>5 years</td>\n",
       "      <td>2</td>\n",
       "      <td>single</td>\n",
       "      <td>...</td>\n",
       "      <td>45</td>\n",
       "      <td>none</td>\n",
       "      <td>for free</td>\n",
       "      <td>1</td>\n",
       "      <td>0</td>\n",
       "      <td>2</td>\n",
       "      <td>NaN</td>\n",
       "      <td>yes</td>\n",
       "      <td>skilled employee</td>\n",
       "      <td>male</td>\n",
       "    </tr>\n",
       "    <tr>\n",
       "      <th>4</th>\n",
       "      <td>4</td>\n",
       "      <td>-23.0</td>\n",
       "      <td>24</td>\n",
       "      <td>delayed</td>\n",
       "      <td>car (new)</td>\n",
       "      <td>4870</td>\n",
       "      <td>43.0</td>\n",
       "      <td>3 years</td>\n",
       "      <td>3</td>\n",
       "      <td>single</td>\n",
       "      <td>...</td>\n",
       "      <td>53</td>\n",
       "      <td>none</td>\n",
       "      <td>for free</td>\n",
       "      <td>2</td>\n",
       "      <td>1</td>\n",
       "      <td>2</td>\n",
       "      <td>NaN</td>\n",
       "      <td>yes</td>\n",
       "      <td>skilled employee</td>\n",
       "      <td>male</td>\n",
       "    </tr>\n",
       "    <tr>\n",
       "      <th>...</th>\n",
       "      <td>...</td>\n",
       "      <td>...</td>\n",
       "      <td>...</td>\n",
       "      <td>...</td>\n",
       "      <td>...</td>\n",
       "      <td>...</td>\n",
       "      <td>...</td>\n",
       "      <td>...</td>\n",
       "      <td>...</td>\n",
       "      <td>...</td>\n",
       "      <td>...</td>\n",
       "      <td>...</td>\n",
       "      <td>...</td>\n",
       "      <td>...</td>\n",
       "      <td>...</td>\n",
       "      <td>...</td>\n",
       "      <td>...</td>\n",
       "      <td>...</td>\n",
       "      <td>...</td>\n",
       "      <td>...</td>\n",
       "      <td>...</td>\n",
       "    </tr>\n",
       "    <tr>\n",
       "      <th>995</th>\n",
       "      <td>995</td>\n",
       "      <td>NaN</td>\n",
       "      <td>12</td>\n",
       "      <td>repaid</td>\n",
       "      <td>furniture</td>\n",
       "      <td>1736</td>\n",
       "      <td>48.0</td>\n",
       "      <td>4 years</td>\n",
       "      <td>3</td>\n",
       "      <td>NaN</td>\n",
       "      <td>...</td>\n",
       "      <td>31</td>\n",
       "      <td>none</td>\n",
       "      <td>own</td>\n",
       "      <td>1</td>\n",
       "      <td>0</td>\n",
       "      <td>1</td>\n",
       "      <td>NaN</td>\n",
       "      <td>yes</td>\n",
       "      <td>unskilled resident</td>\n",
       "      <td>female</td>\n",
       "    </tr>\n",
       "    <tr>\n",
       "      <th>996</th>\n",
       "      <td>996</td>\n",
       "      <td>-30.0</td>\n",
       "      <td>30</td>\n",
       "      <td>repaid</td>\n",
       "      <td>car (used)</td>\n",
       "      <td>3857</td>\n",
       "      <td>20.0</td>\n",
       "      <td>3 years</td>\n",
       "      <td>4</td>\n",
       "      <td>divorced</td>\n",
       "      <td>...</td>\n",
       "      <td>40</td>\n",
       "      <td>none</td>\n",
       "      <td>own</td>\n",
       "      <td>1</td>\n",
       "      <td>0</td>\n",
       "      <td>1</td>\n",
       "      <td>+2340003563</td>\n",
       "      <td>yes</td>\n",
       "      <td>mangement self-employed</td>\n",
       "      <td>male</td>\n",
       "    </tr>\n",
       "    <tr>\n",
       "      <th>997</th>\n",
       "      <td>997</td>\n",
       "      <td>NaN</td>\n",
       "      <td>12</td>\n",
       "      <td>repaid</td>\n",
       "      <td>radio/tv</td>\n",
       "      <td>804</td>\n",
       "      <td>44.0</td>\n",
       "      <td>13 years</td>\n",
       "      <td>4</td>\n",
       "      <td>single</td>\n",
       "      <td>...</td>\n",
       "      <td>38</td>\n",
       "      <td>none</td>\n",
       "      <td>own</td>\n",
       "      <td>1</td>\n",
       "      <td>0</td>\n",
       "      <td>1</td>\n",
       "      <td>NaN</td>\n",
       "      <td>yes</td>\n",
       "      <td>skilled employee</td>\n",
       "      <td>male</td>\n",
       "    </tr>\n",
       "    <tr>\n",
       "      <th>998</th>\n",
       "      <td>998</td>\n",
       "      <td>-18.0</td>\n",
       "      <td>45</td>\n",
       "      <td>repaid</td>\n",
       "      <td>radio/tv</td>\n",
       "      <td>1845</td>\n",
       "      <td>31.0</td>\n",
       "      <td>2 years</td>\n",
       "      <td>4</td>\n",
       "      <td>single</td>\n",
       "      <td>...</td>\n",
       "      <td>23</td>\n",
       "      <td>none</td>\n",
       "      <td>for free</td>\n",
       "      <td>1</td>\n",
       "      <td>1</td>\n",
       "      <td>1</td>\n",
       "      <td>+2342257370</td>\n",
       "      <td>yes</td>\n",
       "      <td>skilled employee</td>\n",
       "      <td>male</td>\n",
       "    </tr>\n",
       "    <tr>\n",
       "      <th>999</th>\n",
       "      <td>999</td>\n",
       "      <td>194.0</td>\n",
       "      <td>45</td>\n",
       "      <td>critical</td>\n",
       "      <td>car (used)</td>\n",
       "      <td>4576</td>\n",
       "      <td>128.0</td>\n",
       "      <td>NaN</td>\n",
       "      <td>3</td>\n",
       "      <td>single</td>\n",
       "      <td>...</td>\n",
       "      <td>27</td>\n",
       "      <td>none</td>\n",
       "      <td>own</td>\n",
       "      <td>1</td>\n",
       "      <td>0</td>\n",
       "      <td>1</td>\n",
       "      <td>NaN</td>\n",
       "      <td>yes</td>\n",
       "      <td>skilled employee</td>\n",
       "      <td>male</td>\n",
       "    </tr>\n",
       "  </tbody>\n",
       "</table>\n",
       "<p>1000 rows × 23 columns</p>\n",
       "</div>"
      ],
      "text/plain": [
       "     Unnamed: 0  checking_balance  months_loan_duration credit_history  \\\n",
       "0             0             -43.0                     6       critical   \n",
       "1             1              75.0                    48         repaid   \n",
       "2             2               NaN                    12       critical   \n",
       "3             3             -32.0                    42         repaid   \n",
       "4             4             -23.0                    24        delayed   \n",
       "..          ...               ...                   ...            ...   \n",
       "995         995               NaN                    12         repaid   \n",
       "996         996             -30.0                    30         repaid   \n",
       "997         997               NaN                    12         repaid   \n",
       "998         998             -18.0                    45         repaid   \n",
       "999         999             194.0                    45       critical   \n",
       "\n",
       "        purpose  amount  savings_balance employment_length  installment_rate  \\\n",
       "0      radio/tv    1169              NaN          13 years                 4   \n",
       "1      radio/tv    5951             89.0           2 years                 2   \n",
       "2     education    2096             24.0           5 years                 2   \n",
       "3     furniture    7882              9.0           5 years                 2   \n",
       "4     car (new)    4870             43.0           3 years                 3   \n",
       "..          ...     ...              ...               ...               ...   \n",
       "995   furniture    1736             48.0           4 years                 3   \n",
       "996  car (used)    3857             20.0           3 years                 4   \n",
       "997    radio/tv     804             44.0          13 years                 4   \n",
       "998    radio/tv    1845             31.0           2 years                 4   \n",
       "999  car (used)    4576            128.0               NaN                 3   \n",
       "\n",
       "    personal_status  ... age installment_plan   housing  existing_credits  \\\n",
       "0            single  ...  67             none       own                 2   \n",
       "1               NaN  ...  22             none       own                 1   \n",
       "2            single  ...  49             none       own                 1   \n",
       "3            single  ...  45             none  for free                 1   \n",
       "4            single  ...  53             none  for free                 2   \n",
       "..              ...  ...  ..              ...       ...               ...   \n",
       "995             NaN  ...  31             none       own                 1   \n",
       "996        divorced  ...  40             none       own                 1   \n",
       "997          single  ...  38             none       own                 1   \n",
       "998          single  ...  23             none  for free                 1   \n",
       "999          single  ...  27             none       own                 1   \n",
       "\n",
       "    default dependents    telephone  foreign_worker                      job  \\\n",
       "0         0          1  +2349339647             yes         skilled employee   \n",
       "1         1          1          NaN             yes         skilled employee   \n",
       "2         0          2          NaN             yes       unskilled resident   \n",
       "3         0          2          NaN             yes         skilled employee   \n",
       "4         1          2          NaN             yes         skilled employee   \n",
       "..      ...        ...          ...             ...                      ...   \n",
       "995       0          1          NaN             yes       unskilled resident   \n",
       "996       0          1  +2340003563             yes  mangement self-employed   \n",
       "997       0          1          NaN             yes         skilled employee   \n",
       "998       1          1  +2342257370             yes         skilled employee   \n",
       "999       0          1          NaN             yes         skilled employee   \n",
       "\n",
       "     gender  \n",
       "0      male  \n",
       "1    female  \n",
       "2      male  \n",
       "3      male  \n",
       "4      male  \n",
       "..      ...  \n",
       "995  female  \n",
       "996    male  \n",
       "997    male  \n",
       "998    male  \n",
       "999    male  \n",
       "\n",
       "[1000 rows x 23 columns]"
      ]
     },
     "execution_count": 3,
     "metadata": {},
     "output_type": "execute_result"
    }
   ],
   "source": [
    "base_credit_df = pd.read_csv('../data/credit.csv', dtype={'telephone': str})\n",
    "base_credit_df"
   ]
  },
  {
   "cell_type": "code",
   "execution_count": 4,
   "id": "57050646-809e-47f0-8967-65be50f44eaf",
   "metadata": {
    "execution": {
     "iopub.execute_input": "2025-08-05T07:57:13.542650Z",
     "iopub.status.busy": "2025-08-05T07:57:13.542570Z",
     "iopub.status.idle": "2025-08-05T07:57:13.544753Z",
     "shell.execute_reply": "2025-08-05T07:57:13.544493Z",
     "shell.execute_reply.started": "2025-08-05T07:57:13.542640Z"
    }
   },
   "outputs": [
    {
     "data": {
      "text/plain": [
       "Index(['Unnamed: 0', 'checking_balance', 'months_loan_duration',\n",
       "       'credit_history', 'purpose', 'amount', 'savings_balance',\n",
       "       'employment_length', 'installment_rate', 'personal_status',\n",
       "       'other_debtors', 'residence_history', 'property', 'age',\n",
       "       'installment_plan', 'housing', 'existing_credits', 'default',\n",
       "       'dependents', 'telephone', 'foreign_worker', 'job', 'gender'],\n",
       "      dtype='object')"
      ]
     },
     "execution_count": 4,
     "metadata": {},
     "output_type": "execute_result"
    }
   ],
   "source": [
    "base_credit_df.columns"
   ]
  },
  {
   "cell_type": "markdown",
   "id": "26860679-8aba-4d2c-9732-7aea198ee831",
   "metadata": {},
   "source": [
    "Renaming 'Unnamed: 0' column to 'observation_id' as it is the only column with unique value for every row"
   ]
  },
  {
   "cell_type": "code",
   "execution_count": 5,
   "id": "f4d400c2-0ca7-446b-be07-e7b74c1ac695",
   "metadata": {
    "execution": {
     "iopub.execute_input": "2025-08-05T07:57:13.545143Z",
     "iopub.status.busy": "2025-08-05T07:57:13.545039Z",
     "iopub.status.idle": "2025-08-05T07:57:13.551677Z",
     "shell.execute_reply": "2025-08-05T07:57:13.551431Z",
     "shell.execute_reply.started": "2025-08-05T07:57:13.545135Z"
    }
   },
   "outputs": [
    {
     "data": {
      "text/html": [
       "<div>\n",
       "<style scoped>\n",
       "    .dataframe tbody tr th:only-of-type {\n",
       "        vertical-align: middle;\n",
       "    }\n",
       "\n",
       "    .dataframe tbody tr th {\n",
       "        vertical-align: top;\n",
       "    }\n",
       "\n",
       "    .dataframe thead th {\n",
       "        text-align: right;\n",
       "    }\n",
       "</style>\n",
       "<table border=\"1\" class=\"dataframe\">\n",
       "  <thead>\n",
       "    <tr style=\"text-align: right;\">\n",
       "      <th></th>\n",
       "      <th>observation_id</th>\n",
       "      <th>checking_balance</th>\n",
       "      <th>months_loan_duration</th>\n",
       "      <th>credit_history</th>\n",
       "      <th>purpose</th>\n",
       "      <th>amount</th>\n",
       "      <th>savings_balance</th>\n",
       "      <th>employment_length</th>\n",
       "      <th>installment_rate</th>\n",
       "      <th>personal_status</th>\n",
       "      <th>...</th>\n",
       "      <th>age</th>\n",
       "      <th>installment_plan</th>\n",
       "      <th>housing</th>\n",
       "      <th>existing_credits</th>\n",
       "      <th>default</th>\n",
       "      <th>dependents</th>\n",
       "      <th>telephone</th>\n",
       "      <th>foreign_worker</th>\n",
       "      <th>job</th>\n",
       "      <th>gender</th>\n",
       "    </tr>\n",
       "  </thead>\n",
       "  <tbody>\n",
       "    <tr>\n",
       "      <th>0</th>\n",
       "      <td>0</td>\n",
       "      <td>-43.0</td>\n",
       "      <td>6</td>\n",
       "      <td>critical</td>\n",
       "      <td>radio/tv</td>\n",
       "      <td>1169</td>\n",
       "      <td>NaN</td>\n",
       "      <td>13 years</td>\n",
       "      <td>4</td>\n",
       "      <td>single</td>\n",
       "      <td>...</td>\n",
       "      <td>67</td>\n",
       "      <td>none</td>\n",
       "      <td>own</td>\n",
       "      <td>2</td>\n",
       "      <td>0</td>\n",
       "      <td>1</td>\n",
       "      <td>+2349339647</td>\n",
       "      <td>yes</td>\n",
       "      <td>skilled employee</td>\n",
       "      <td>male</td>\n",
       "    </tr>\n",
       "    <tr>\n",
       "      <th>1</th>\n",
       "      <td>1</td>\n",
       "      <td>75.0</td>\n",
       "      <td>48</td>\n",
       "      <td>repaid</td>\n",
       "      <td>radio/tv</td>\n",
       "      <td>5951</td>\n",
       "      <td>89.0</td>\n",
       "      <td>2 years</td>\n",
       "      <td>2</td>\n",
       "      <td>NaN</td>\n",
       "      <td>...</td>\n",
       "      <td>22</td>\n",
       "      <td>none</td>\n",
       "      <td>own</td>\n",
       "      <td>1</td>\n",
       "      <td>1</td>\n",
       "      <td>1</td>\n",
       "      <td>NaN</td>\n",
       "      <td>yes</td>\n",
       "      <td>skilled employee</td>\n",
       "      <td>female</td>\n",
       "    </tr>\n",
       "    <tr>\n",
       "      <th>2</th>\n",
       "      <td>2</td>\n",
       "      <td>NaN</td>\n",
       "      <td>12</td>\n",
       "      <td>critical</td>\n",
       "      <td>education</td>\n",
       "      <td>2096</td>\n",
       "      <td>24.0</td>\n",
       "      <td>5 years</td>\n",
       "      <td>2</td>\n",
       "      <td>single</td>\n",
       "      <td>...</td>\n",
       "      <td>49</td>\n",
       "      <td>none</td>\n",
       "      <td>own</td>\n",
       "      <td>1</td>\n",
       "      <td>0</td>\n",
       "      <td>2</td>\n",
       "      <td>NaN</td>\n",
       "      <td>yes</td>\n",
       "      <td>unskilled resident</td>\n",
       "      <td>male</td>\n",
       "    </tr>\n",
       "    <tr>\n",
       "      <th>3</th>\n",
       "      <td>3</td>\n",
       "      <td>-32.0</td>\n",
       "      <td>42</td>\n",
       "      <td>repaid</td>\n",
       "      <td>furniture</td>\n",
       "      <td>7882</td>\n",
       "      <td>9.0</td>\n",
       "      <td>5 years</td>\n",
       "      <td>2</td>\n",
       "      <td>single</td>\n",
       "      <td>...</td>\n",
       "      <td>45</td>\n",
       "      <td>none</td>\n",
       "      <td>for free</td>\n",
       "      <td>1</td>\n",
       "      <td>0</td>\n",
       "      <td>2</td>\n",
       "      <td>NaN</td>\n",
       "      <td>yes</td>\n",
       "      <td>skilled employee</td>\n",
       "      <td>male</td>\n",
       "    </tr>\n",
       "    <tr>\n",
       "      <th>4</th>\n",
       "      <td>4</td>\n",
       "      <td>-23.0</td>\n",
       "      <td>24</td>\n",
       "      <td>delayed</td>\n",
       "      <td>car (new)</td>\n",
       "      <td>4870</td>\n",
       "      <td>43.0</td>\n",
       "      <td>3 years</td>\n",
       "      <td>3</td>\n",
       "      <td>single</td>\n",
       "      <td>...</td>\n",
       "      <td>53</td>\n",
       "      <td>none</td>\n",
       "      <td>for free</td>\n",
       "      <td>2</td>\n",
       "      <td>1</td>\n",
       "      <td>2</td>\n",
       "      <td>NaN</td>\n",
       "      <td>yes</td>\n",
       "      <td>skilled employee</td>\n",
       "      <td>male</td>\n",
       "    </tr>\n",
       "  </tbody>\n",
       "</table>\n",
       "<p>5 rows × 23 columns</p>\n",
       "</div>"
      ],
      "text/plain": [
       "   observation_id  checking_balance  months_loan_duration credit_history  \\\n",
       "0               0             -43.0                     6       critical   \n",
       "1               1              75.0                    48         repaid   \n",
       "2               2               NaN                    12       critical   \n",
       "3               3             -32.0                    42         repaid   \n",
       "4               4             -23.0                    24        delayed   \n",
       "\n",
       "     purpose  amount  savings_balance employment_length  installment_rate  \\\n",
       "0   radio/tv    1169              NaN          13 years                 4   \n",
       "1   radio/tv    5951             89.0           2 years                 2   \n",
       "2  education    2096             24.0           5 years                 2   \n",
       "3  furniture    7882              9.0           5 years                 2   \n",
       "4  car (new)    4870             43.0           3 years                 3   \n",
       "\n",
       "  personal_status  ... age installment_plan   housing  existing_credits  \\\n",
       "0          single  ...  67             none       own                 2   \n",
       "1             NaN  ...  22             none       own                 1   \n",
       "2          single  ...  49             none       own                 1   \n",
       "3          single  ...  45             none  for free                 1   \n",
       "4          single  ...  53             none  for free                 2   \n",
       "\n",
       "  default dependents    telephone  foreign_worker                 job  gender  \n",
       "0       0          1  +2349339647             yes    skilled employee    male  \n",
       "1       1          1          NaN             yes    skilled employee  female  \n",
       "2       0          2          NaN             yes  unskilled resident    male  \n",
       "3       0          2          NaN             yes    skilled employee    male  \n",
       "4       1          2          NaN             yes    skilled employee    male  \n",
       "\n",
       "[5 rows x 23 columns]"
      ]
     },
     "execution_count": 5,
     "metadata": {},
     "output_type": "execute_result"
    }
   ],
   "source": [
    "base_credit_df.rename(columns={'Unnamed: 0': 'observation_id'}, inplace=True)\n",
    "base_credit_df.head()"
   ]
  },
  {
   "cell_type": "code",
   "execution_count": 6,
   "id": "8ff1e437-75a8-41bd-b147-cc3267fcc91b",
   "metadata": {
    "execution": {
     "iopub.execute_input": "2025-08-05T07:57:13.552034Z",
     "iopub.status.busy": "2025-08-05T07:57:13.551910Z",
     "iopub.status.idle": "2025-08-05T07:57:13.558177Z",
     "shell.execute_reply": "2025-08-05T07:57:13.557784Z",
     "shell.execute_reply.started": "2025-08-05T07:57:13.552021Z"
    }
   },
   "outputs": [
    {
     "name": "stdout",
     "output_type": "stream",
     "text": [
      "<class 'pandas.core.frame.DataFrame'>\n",
      "RangeIndex: 1000 entries, 0 to 999\n",
      "Data columns (total 23 columns):\n",
      " #   Column                Non-Null Count  Dtype  \n",
      "---  ------                --------------  -----  \n",
      " 0   observation_id        1000 non-null   int64  \n",
      " 1   checking_balance      606 non-null    float64\n",
      " 2   months_loan_duration  1000 non-null   int64  \n",
      " 3   credit_history        1000 non-null   object \n",
      " 4   purpose               1000 non-null   object \n",
      " 5   amount                1000 non-null   int64  \n",
      " 6   savings_balance       817 non-null    float64\n",
      " 7   employment_length     938 non-null    object \n",
      " 8   installment_rate      1000 non-null   int64  \n",
      " 9   personal_status       690 non-null    object \n",
      " 10  other_debtors         1000 non-null   object \n",
      " 11  residence_history     870 non-null    object \n",
      " 12  property              1000 non-null   object \n",
      " 13  age                   1000 non-null   int64  \n",
      " 14  installment_plan      1000 non-null   object \n",
      " 15  housing               1000 non-null   object \n",
      " 16  existing_credits      1000 non-null   int64  \n",
      " 17  default               1000 non-null   int64  \n",
      " 18  dependents            1000 non-null   int64  \n",
      " 19  telephone             404 non-null    object \n",
      " 20  foreign_worker        1000 non-null   object \n",
      " 21  job                   1000 non-null   object \n",
      " 22  gender                1000 non-null   object \n",
      "dtypes: float64(2), int64(8), object(13)\n",
      "memory usage: 179.8+ KB\n"
     ]
    }
   ],
   "source": [
    "base_credit_df.info()"
   ]
  },
  {
   "cell_type": "markdown",
   "id": "48bb7296-bdf9-4511-9a45-f3ac8c73cad8",
   "metadata": {},
   "source": [
    "### Initial Assessment of the Data"
   ]
  },
  {
   "cell_type": "markdown",
   "id": "f41c7f93-f780-4146-bb68-6027c35edbf7",
   "metadata": {},
   "source": [
    "#### A review of the dataset's structure via base_credit_df.info() reveals several critical characteristics that will guide my data preprocessing strategy:\n",
    "\n",
    "1. ___Missing Data in Key Predictors:___ There are substantial nulls in columns that are intuitively important for credit risk. _checking_balance_ (39% missing), _personal_status_ (31% missing), and _savings_balance_ (18% missing) are the most notable. These missing entries have to be checked and handled accordingly.\n",
    "2. ___Noisy Feature:___ The _telephone_ column is missing almost 60% of its values. Such a high rate of missingness suggests the feature might not be reliable. A boolean variable can be derived from this column stating whether the phone number is present or not for a given observation_id.\n",
    "3. ___Mix of Data Types:___ The dataset contains a healthy mix of int64 and float64 numerical features, but also 13 object columns. These categorical text-based columns will be converted into a numerical format before they can be used in a machine learning model."
   ]
  },
  {
   "cell_type": "markdown",
   "id": "19bb60e0-3b15-45be-be45-57f74d411cb8",
   "metadata": {
    "jp-MarkdownHeadingCollapsed": true
   },
   "source": [
    "## Target Variable Analysis:"
   ]
  },
  {
   "cell_type": "code",
   "execution_count": 7,
   "id": "78701f20-027e-4618-a284-596183925839",
   "metadata": {
    "execution": {
     "iopub.execute_input": "2025-08-05T07:57:13.558703Z",
     "iopub.status.busy": "2025-08-05T07:57:13.558614Z",
     "iopub.status.idle": "2025-08-05T07:57:13.671166Z",
     "shell.execute_reply": "2025-08-05T07:57:13.670917Z",
     "shell.execute_reply.started": "2025-08-05T07:57:13.558695Z"
    }
   },
   "outputs": [
    {
     "data": {
      "image/png": "[encoded data removed]",
      "text/plain": [
       "<Figure size 640x480 with 1 Axes>"
      ]
     },
     "metadata": {
      "needs_background": "dark"
     },
     "output_type": "display_data"
    }
   ],
   "source": [
    "base_credit_df['default'].value_counts(normalize=True).plot(kind='bar', color=default_var_colours)\n",
    "plt.xticks(rotation=0)\n",
    "plt.title('Distribution of Loan Defaults')\n",
    "plt.xlabel('Default Status (1 = Default)')\n",
    "plt.ylabel('Proportion of Loans')\n",
    "\n",
    "plt.savefig('../images/target_default.png', transparent=True, dpi=300)\n",
    "# plt.show()\n",
    "plt.show()"
   ]
  },
  {
   "cell_type": "markdown",
   "id": "b425f8e8-cbdd-48d6-ac9f-c731ff9f83a9",
   "metadata": {},
   "source": [
    "The target variable _default_ is imbalanced, with only 30% of loans being marked as defaults. This confirms that simple accuracy will be a misleading evaluation metric. We should focus on metrics like AUC-ROC and analyze the Precision-Recall trade-off. \n",
    "\n",
    "The ROC-AUC score measures the model's ability to discriminate between the positive and negative classes across all possible thresholds, making it ideal for imbalanced datasets.\n",
    "\n",
    "Precision tells us: \"When the model predicts a customer will default, how often is it correct?\" E.g. if precision is 0.7 for good loans then it means that 70% of the time the model predicts good loans correctly. \n",
    "\n",
    "Recall tells us: \"Of all the customers who will actually default, what percentage did the model correctly identify?\" E.g. if recall of bad loans is 0.57 it means that the model perfectly caught 57% of the bad loans out of the total bad loans in the data."
   ]
  },
  {
   "cell_type": "markdown",
   "id": "8473507d-02bf-453c-b513-c4bf6f8185de",
   "metadata": {},
   "source": [
    "## Univariate & Bivariate Analysis"
   ]
  },
  {
   "cell_type": "markdown",
   "id": "4d196bec-1c3c-4c0b-b3f5-f8107562a29f",
   "metadata": {},
   "source": [
    "I will now analyze the relationship between the features and the target variable in their original state to understand their raw predictive power and to inform my later preprocessing strategy."
   ]
  },
  {
   "cell_type": "markdown",
   "id": "4f548445-9012-46fc-9a6d-c4cba9045ed9",
   "metadata": {},
   "source": [
    "### Analysis of Categorical Features"
   ]
  },
  {
   "cell_type": "markdown",
   "id": "ff650b1c-0f32-414f-99bb-54252c1e018c",
   "metadata": {},
   "source": [
    "#### Purpose vs Default"
   ]
  },
  {
   "cell_type": "code",
   "execution_count": 8,
   "id": "0f2d550e-fb52-49e7-b959-966687ed6aff",
   "metadata": {
    "execution": {
     "iopub.execute_input": "2025-08-05T07:57:13.671603Z",
     "iopub.status.busy": "2025-08-05T07:57:13.671520Z",
     "iopub.status.idle": "2025-08-05T07:57:13.872312Z",
     "shell.execute_reply": "2025-08-05T07:57:13.872071Z",
     "shell.execute_reply.started": "2025-08-05T07:57:13.671596Z"
    }
   },
   "outputs": [
    {
     "data": {
      "image/png": "[encoded data removed]",
      "text/plain": [
       "<Figure size 640x480 with 1 Axes>"
      ]
     },
     "metadata": {
      "needs_background": "dark"
     },
     "output_type": "display_data"
    }
   ],
   "source": [
    "pd.crosstab(base_credit_df['purpose'], \n",
    "            base_credit_df['default'], \n",
    "            normalize='index').plot(kind='bar', stacked=True, color=default_var_colours)\n",
    "plt.title('Default Rate by Purpose')\n",
    "plt.xlabel('Purpose')\n",
    "plt.ylabel('Proportion')\n",
    "plt.xticks(rotation=45)\n",
    "plt.legend(title='default', bbox_to_anchor=(1.02, 1), loc='upper left')\n",
    "plt.tight_layout()\n",
    "plt.savefig('../images/purpose_vs_default.png', transparent=True, dpi=500)\n",
    "plt.show()"
   ]
  },
  {
   "cell_type": "markdown",
   "id": "2c7fc26d-0322-4a66-94aa-18b4967e92cd",
   "metadata": {
    "jp-MarkdownHeadingCollapsed": true
   },
   "source": [
    "##### Loan Purpose is a Strong Predictor of Risk\n",
    "\n",
    "The analysis reveals a clear relationship between the loan's purpose and the likelihood of default. The default rates are not uniform across categories, which indicates that _purpose_ is a valuable predictive feature for the model."
   ]
  },
  {
   "cell_type": "markdown",
   "id": "e35b054b-6acc-4cca-9528-d8433026aa40",
   "metadata": {},
   "source": [
    "#### Loan Duration in Months vs Default"
   ]
  },
  {
   "cell_type": "code",
   "execution_count": 9,
   "id": "b3ef0ee9-7411-42fd-b40c-79d20676bbbf",
   "metadata": {
    "execution": {
     "iopub.execute_input": "2025-08-05T07:57:13.872766Z",
     "iopub.status.busy": "2025-08-05T07:57:13.872676Z",
     "iopub.status.idle": "2025-08-05T07:57:13.977224Z",
     "shell.execute_reply": "2025-08-05T07:57:13.976984Z",
     "shell.execute_reply.started": "2025-08-05T07:57:13.872756Z"
    }
   },
   "outputs": [
    {
     "data": {
      "image/png": "[encoded data removed]",
      "text/plain": [
       "<Figure size 640x480 with 1 Axes>"
      ]
     },
     "metadata": {
      "needs_background": "dark"
     },
     "output_type": "display_data"
    }
   ],
   "source": [
    "pd.crosstab(base_credit_df['months_loan_duration'], \n",
    "            base_credit_df['default'], \n",
    "            normalize='index').plot(kind='bar', stacked=True, color=default_var_colours)\n",
    "plt.xticks(rotation=90)\n",
    "plt.legend(title='default', bbox_to_anchor=(1.02, 1), loc='upper left')\n",
    "plt.title('Default Rate by Loan Duration in Months')\n",
    "plt.xlabel('Loan Duration in Month')\n",
    "plt.ylabel('Proportion')\n",
    "plt.show()"
   ]
  },
  {
   "cell_type": "markdown",
   "id": "0444f4d6-0469-4028-b74b-0beff4db0ee5",
   "metadata": {},
   "source": [
    "The analysis shows that customers with higher loan duration seem to have a higher chance of defaulting in the loan especially beyond 36 months. But since the number of unique values are more, to visualize this trend more clearly, I have grouped the loan durations into categories."
   ]
  },
  {
   "cell_type": "code",
   "execution_count": 10,
   "id": "96b7e419-c7e4-4245-a691-61ae7defbb4f",
   "metadata": {
    "execution": {
     "iopub.execute_input": "2025-08-05T07:57:13.977706Z",
     "iopub.status.busy": "2025-08-05T07:57:13.977628Z",
     "iopub.status.idle": "2025-08-05T07:57:14.141234Z",
     "shell.execute_reply": "2025-08-05T07:57:14.141001Z",
     "shell.execute_reply.started": "2025-08-05T07:57:13.977699Z"
    }
   },
   "outputs": [
    {
     "data": {
      "image/png": "[encoded data removed]",
      "text/plain": [
       "<Figure size 640x480 with 1 Axes>"
      ]
     },
     "metadata": {
      "needs_background": "dark"
     },
     "output_type": "display_data"
    }
   ],
   "source": [
    "duration_bins = [0, 12, 24, 36, 48, 60, 100]\n",
    "duration_labels = ['0-12m', '13-24m', '25-36m', '37-48m', '49-60m', '60+m']\n",
    "base_credit_df['loan_duration_category'] = pd.cut(base_credit_df['months_loan_duration'], \n",
    "                                                  bins=duration_bins, labels=duration_labels, right=True)\n",
    "\n",
    "pd.crosstab(base_credit_df['loan_duration_category'], \n",
    "            base_credit_df['default'], \n",
    "            normalize='index').plot(kind='bar', stacked=True, color=default_var_colours)\n",
    "plt.xticks(rotation=0)\n",
    "plt.legend(title='default', bbox_to_anchor=(1.02, 1), loc='upper left')\n",
    "plt.title('Default Rate by Loan Duration Bins')\n",
    "plt.xlabel('Loan Duration in Months')\n",
    "plt.ylabel('Proportion')\n",
    "plt.tight_layout()\n",
    "plt.savefig('../images/loan_duration_vs_default.png', transparent=True, dpi=500)\n",
    "plt.show()"
   ]
  },
  {
   "cell_type": "markdown",
   "id": "005f89d2-2c41-4ce3-bd25-a0c8553cc4c4",
   "metadata": {},
   "source": [
    "The binned chart confirms the relationship: the proportion of defaults steadily increases for longer-term loans, with a notable jump in risk for loans with a duration greater than 24 months.\n",
    "\n",
    "__Business Rationale:__ This relationship is a fundamental principle of credit risk. Longer loan tenures mean more time for a borrower's financial situation to change unexpectedly (e.g., job loss, medical emergency), increasing the cumulative risk of a default event over the life of the loan. This insight can be used to justify applying stricter credit criteria or potentially higher interest rates for longer-duration loan applications."
   ]
  },
  {
   "cell_type": "markdown",
   "id": "a049d93e-bf1c-4163-93b0-e26a23cbe1bc",
   "metadata": {},
   "source": [
    "#### Credit History vs Default"
   ]
  },
  {
   "cell_type": "code",
   "execution_count": 11,
   "id": "cc214b82-f3e2-413d-81b6-162be3b818a8",
   "metadata": {
    "execution": {
     "iopub.execute_input": "2025-08-05T07:57:14.141741Z",
     "iopub.status.busy": "2025-08-05T07:57:14.141654Z",
     "iopub.status.idle": "2025-08-05T07:57:14.318365Z",
     "shell.execute_reply": "2025-08-05T07:57:14.318132Z",
     "shell.execute_reply.started": "2025-08-05T07:57:14.141733Z"
    }
   },
   "outputs": [
    {
     "data": {
      "image/png": "[encoded data removed]",
      "text/plain": [
       "<Figure size 640x480 with 1 Axes>"
      ]
     },
     "metadata": {
      "needs_background": "dark"
     },
     "output_type": "display_data"
    }
   ],
   "source": [
    "pd.crosstab(base_credit_df['credit_history'], \n",
    "            base_credit_df['default'], \n",
    "            normalize='index').plot(kind='bar', stacked=True, color=default_var_colours)\n",
    "plt.xticks(rotation=45)\n",
    "plt.legend(title='default', bbox_to_anchor=(1.02, 1), loc='upper left')\n",
    "plt.title('Default Rate by Credit History')\n",
    "plt.xlabel('Credit History')\n",
    "plt.ylabel('Proportion')\n",
    "plt.tight_layout()\n",
    "plt.savefig('../images/credit_history_vs_default.png', transparent=True, dpi=500)\n",
    "plt.show()"
   ]
  },
  {
   "cell_type": "code",
   "execution_count": 12,
   "id": "979fe038-5292-4426-a2cf-1e488face85d",
   "metadata": {
    "execution": {
     "iopub.execute_input": "2025-08-05T07:57:14.320451Z",
     "iopub.status.busy": "2025-08-05T07:57:14.320361Z",
     "iopub.status.idle": "2025-08-05T07:57:14.322704Z",
     "shell.execute_reply": "2025-08-05T07:57:14.322508Z",
     "shell.execute_reply.started": "2025-08-05T07:57:14.320444Z"
    }
   },
   "outputs": [
    {
     "data": {
      "text/plain": [
       "credit_history\n",
       "repaid                    530\n",
       "critical                  293\n",
       "delayed                    88\n",
       "fully repaid this bank     49\n",
       "fully repaid               40\n",
       "Name: count, dtype: int64"
      ]
     },
     "execution_count": 12,
     "metadata": {},
     "output_type": "execute_result"
    }
   ],
   "source": [
    "base_credit_df.credit_history.value_counts()"
   ]
  },
  {
   "cell_type": "markdown",
   "id": "0ba7154d-5de2-475a-a505-a477ded3c1e2",
   "metadata": {},
   "source": [
    "The analysis of the credit_history feature reveals a surprising and counterintuitive trend that requires careful consideration.\n",
    "\n",
    "As shown in the chart, the highest proportion of defaults (over 60%) occurs in the _'fully repaid'_ category. Conversely, the _'critical'_ category—which sounds like it should be the riskiest—exhibits one of the lowest default rates. This is the opposite of what standard credit risk principles would suggest."
   ]
  },
  {
   "cell_type": "markdown",
   "id": "c89e621a-d159-44d6-80a4-55dbe528ff2e",
   "metadata": {},
   "source": [
    "##### What could be happening?\n",
    "\n",
    "This unexpected result strongly suggests an issue with either the data definition or the data collection process. My primary hypotheses are:\n",
    "\n",
    "1. Misleading Category Definitions: The category labels may not mean what they seem. For example, 'fully repaid' might refer to customers who have paid off past loans but are now applying for a new one due to new financial stress. 'Critical' could potentially refer to customers with 'critical accounts still open and being paid on time at this bank.' Without a data dictionary, this is a major assumption.\n",
    "2. Data Quality Issue: There could be an error in how this data was logged or joined, leading to a reversed or scrambled relationship.\n",
    "\n",
    "##### Implication for Modeling & Recommendations\n",
    "\n",
    "This is a significant finding. Simply feeding this feature into a model as-is cmight not be correct. The model would learn this strange relationship and might, for example, incorrectly assign a higher risk to a customer who has a good repayment history.\n",
    "\n",
    "I will proceed with using the feature as provided for this assessment, but I am flagging this as a major point of concern. \n",
    "\n",
    "The model's feature importance plot will likely show _credit_history_ as highly predictive, but we must be skeptical of why.\n",
    "\n",
    "In a real-world scenario I would have paused to consult with the right business stakeholders/data owners regarding the precise definition of the unique values in _credit_history_ variable. It is important to understand the why for this before building a model on it."
   ]
  },
  {
   "cell_type": "markdown",
   "id": "13a05aeb-6013-4df4-a90d-15f3f5318d49",
   "metadata": {},
   "source": [
    "#### Personal Status vs Default"
   ]
  },
  {
   "cell_type": "markdown",
   "id": "dbc5e744-8d7b-4946-9311-3a3c8eac5af4",
   "metadata": {},
   "source": [
    "There are missing entries in the _personal_status_ column, for the analysis I will be treating the missing values as an independent category 'unknown' to check for correlation with the default column"
   ]
  },
  {
   "cell_type": "code",
   "execution_count": 13,
   "id": "84517fe7-50d6-4da2-8762-f48a4edd0ff5",
   "metadata": {
    "execution": {
     "iopub.execute_input": "2025-08-05T07:57:14.323072Z",
     "iopub.status.busy": "2025-08-05T07:57:14.323005Z",
     "iopub.status.idle": "2025-08-05T07:57:14.324728Z",
     "shell.execute_reply": "2025-08-05T07:57:14.324493Z",
     "shell.execute_reply.started": "2025-08-05T07:57:14.323063Z"
    }
   },
   "outputs": [],
   "source": [
    "base_credit_df.personal_status.fillna('unknown', inplace=True)"
   ]
  },
  {
   "cell_type": "code",
   "execution_count": 14,
   "id": "670e6f73-9efc-45f9-a6d2-9e6ab95ae9d3",
   "metadata": {
    "execution": {
     "iopub.execute_input": "2025-08-05T07:57:14.325003Z",
     "iopub.status.busy": "2025-08-05T07:57:14.324940Z",
     "iopub.status.idle": "2025-08-05T07:57:14.426013Z",
     "shell.execute_reply": "2025-08-05T07:57:14.425761Z",
     "shell.execute_reply.started": "2025-08-05T07:57:14.324996Z"
    }
   },
   "outputs": [
    {
     "data": {
      "image/png": "[encoded data removed]",
      "text/plain": [
       "<Figure size 640x480 with 1 Axes>"
      ]
     },
     "metadata": {
      "needs_background": "dark"
     },
     "output_type": "display_data"
    }
   ],
   "source": [
    "pd.crosstab(base_credit_df['personal_status'], \n",
    "            base_credit_df['default'], \n",
    "            normalize='index').plot(kind='bar', stacked=True, color=default_var_colours)\n",
    "plt.xticks(rotation=0)\n",
    "plt.legend(title='default', bbox_to_anchor=(1.02, 1), loc='upper left')\n",
    "plt.title('Default Rate by Personal Status')\n",
    "plt.xlabel('Personal Status')\n",
    "plt.ylabel('Proportion')\n",
    "plt.tight_layout()\n",
    "plt.savefig('../images/personal_status_vs_default.png', transparent=True, dpi=300)\n",
    "plt.show()"
   ]
  },
  {
   "cell_type": "markdown",
   "id": "c7b83689-d854-4fff-b02d-e6be23d9770a",
   "metadata": {},
   "source": [
    "The analysis confirms that the applicant's personal status is a valuable predictive feature, as the default rate varies significantly across the different categories.\n",
    "\n",
    "__Highest Risk Group:__ The 'divorced' category shows the highest proportion of defaults. This could be hypothesized to be due to potential financial instability or changes in household income associated with such life events.\n",
    "\n",
    "__Lower Risk Groups:__ Conversely, individuals marked as 'married' or 'single' exhibit a lower default rate. This may suggest a more stable or predictable financial situation on average for these segments.\n",
    "\n",
    "__'Unknown' Category:__ It is also interesting to note that the default rate for the 'unknown' category (where data was missing) is relatively high, second only to 'divorced'. This confirms my earlier decision to treat missingness as an independent category was correct, as it captures a specific risk profile."
   ]
  },
  {
   "cell_type": "markdown",
   "id": "a02d60df-7f1b-49de-9bb9-473b35af982c",
   "metadata": {},
   "source": [
    "#### Property vs Default"
   ]
  },
  {
   "cell_type": "code",
   "execution_count": 15,
   "id": "55f5301d-2cd5-4e23-8f2e-93f06b1b8694",
   "metadata": {
    "execution": {
     "iopub.execute_input": "2025-08-05T07:57:14.426432Z",
     "iopub.status.busy": "2025-08-05T07:57:14.426353Z",
     "iopub.status.idle": "2025-08-05T07:57:14.526848Z",
     "shell.execute_reply": "2025-08-05T07:57:14.526593Z",
     "shell.execute_reply.started": "2025-08-05T07:57:14.426425Z"
    }
   },
   "outputs": [
    {
     "data": {
      "image/png": "[encoded data removed]",
      "text/plain": [
       "<Figure size 640x480 with 1 Axes>"
      ]
     },
     "metadata": {
      "needs_background": "dark"
     },
     "output_type": "display_data"
    }
   ],
   "source": [
    "pd.crosstab(base_credit_df['property'], \n",
    "            base_credit_df['default'], \n",
    "            normalize='index').plot(kind='bar', stacked=True, color=default_var_colours)\n",
    "plt.xticks(rotation=0)\n",
    "plt.legend(title='default', bbox_to_anchor=(1.02, 1), loc='upper left')\n",
    "plt.title('Default Rate by Property Ownership')\n",
    "plt.xlabel('Property')\n",
    "plt.ylabel('Proportion')\n",
    "plt.tight_layout()\n",
    "plt.savefig('../images/property_vs_default.png', transparent=True, dpi=300)\n",
    "plt.show()"
   ]
  },
  {
   "cell_type": "markdown",
   "id": "c8ac3662-991b-4a4f-908c-c7035c792c04",
   "metadata": {},
   "source": [
    "Based on the chart, _property_ feature is a strong indicator of the applicant's financial stability and risk profile. The default rates are not uniform across categories, which indicates that it is also a valuable predictive feature for the model.\n",
    "\n",
    "__Highest Risk:__ The 'unknown/none' category has customers who have probably not disclosed their property or don't have one. They have the highest default rates. This is also intuitive, as a lack of declared assets can be a significant indicator of lower financial stability and a higher overall risk profile.\n",
    "\n",
    "__Lowest Risk:__ Unsurprisingly, customers who have a real estate property have the least default rate. It shows that owning property serves as a proxy for financial stability and such individuals become reliable borrowers."
   ]
  },
  {
   "cell_type": "markdown",
   "id": "77e669d4-e7f8-44a3-afaa-534d6d871e42",
   "metadata": {},
   "source": [
    "#### Dependents vs Default"
   ]
  },
  {
   "cell_type": "code",
   "execution_count": 16,
   "id": "444a0ca7-34b1-41bb-a603-8844aa008946",
   "metadata": {
    "execution": {
     "iopub.execute_input": "2025-08-05T07:57:14.527265Z",
     "iopub.status.busy": "2025-08-05T07:57:14.527191Z",
     "iopub.status.idle": "2025-08-05T07:57:14.619026Z",
     "shell.execute_reply": "2025-08-05T07:57:14.618781Z",
     "shell.execute_reply.started": "2025-08-05T07:57:14.527258Z"
    }
   },
   "outputs": [
    {
     "data": {
      "image/png": "[encoded data removed]",
      "text/plain": [
       "<Figure size 640x480 with 1 Axes>"
      ]
     },
     "metadata": {
      "needs_background": "dark"
     },
     "output_type": "display_data"
    }
   ],
   "source": [
    "pd.crosstab(base_credit_df['dependents'], \n",
    "            base_credit_df['default'], \n",
    "            normalize='index').plot(kind='bar', stacked=True, color=default_var_colours)\n",
    "plt.legend(title='default', bbox_to_anchor=(1.02, 1), loc='upper left')\n",
    "plt.title('Default Rate by Number of Dependents')\n",
    "plt.xlabel('Dependents')\n",
    "plt.ylabel('Proportion')\n",
    "plt.xticks(rotation=0)\n",
    "plt.tight_layout()\n",
    "plt.savefig('../images/dependents_vs_default.png', transparent=True, dpi=300)\n",
    "plt.show()"
   ]
  },
  {
   "cell_type": "markdown",
   "id": "409fff35-3086-4bf0-8126-da690837514b",
   "metadata": {},
   "source": [
    "An interesting finding from the analysis is that the _dependents_ feature appears to have no significant correlation with the default rate. As shown in the chart, the proportion of defaults is identical for applicants with one or two dependents.\n",
    "\n",
    "Intuitively, I thought dependents would have some impact on the default rate but this specific dataset does not support that hypothesis. So it is unlikely that this feature would be picked by the model"
   ]
  },
  {
   "cell_type": "markdown",
   "id": "224ba886-ae2b-4739-99e4-10fc8d63b458",
   "metadata": {},
   "source": [
    "#### Foreign Worker vs Default"
   ]
  },
  {
   "cell_type": "code",
   "execution_count": 17,
   "id": "d974e1af-b200-40c9-8a11-7ace1b45ddeb",
   "metadata": {
    "execution": {
     "iopub.execute_input": "2025-08-05T07:57:14.619463Z",
     "iopub.status.busy": "2025-08-05T07:57:14.619382Z",
     "iopub.status.idle": "2025-08-05T07:57:14.712769Z",
     "shell.execute_reply": "2025-08-05T07:57:14.712529Z",
     "shell.execute_reply.started": "2025-08-05T07:57:14.619456Z"
    }
   },
   "outputs": [
    {
     "data": {
      "image/png": "[encoded data removed]",
      "text/plain": [
       "<Figure size 640x480 with 1 Axes>"
      ]
     },
     "metadata": {
      "needs_background": "dark"
     },
     "output_type": "display_data"
    }
   ],
   "source": [
    "pd.crosstab(base_credit_df['foreign_worker'], \n",
    "            base_credit_df['default'], \n",
    "            normalize='index').plot(kind='bar', stacked=True, color=default_var_colours)\n",
    "plt.legend(title='default', bbox_to_anchor=(1.02, 1), loc='upper left')\n",
    "plt.title('Default Rate by Nationality of the worker (Foreigner)')\n",
    "plt.xlabel('Is a Foreigner')\n",
    "plt.ylabel('Proportion')\n",
    "plt.xticks(rotation=0)\n",
    "plt.tight_layout()\n",
    "plt.savefig('../images/foreigner_vs_default.png', transparent=True, dpi=300)\n",
    "plt.show()"
   ]
  },
  {
   "cell_type": "markdown",
   "id": "5577d011-d9ea-4672-9428-f8d52070edb9",
   "metadata": {},
   "source": [
    "The nationality of the customer is also a strong predictor for default. \n",
    "\n",
    "Interestingly, if the customer is a foreigner, the default probability is higher. The reason for this could be that while working in a foreign country, the expenses are higher. It includes the initial set-up cost, relocation cost, lack of a social safety net in case of financial distress, potential visa issues. On the other hand, for native customers these specific issues don't arise.\n",
    "\n",
    "This feature has a strong predictive power making it valuable in the model"
   ]
  },
  {
   "cell_type": "markdown",
   "id": "853a5615-2898-4728-ac6b-6c377e379b24",
   "metadata": {},
   "source": [
    "#### Job Type vs Default"
   ]
  },
  {
   "cell_type": "code",
   "execution_count": 18,
   "id": "84f6bcde-7c2a-4f6b-9284-e0232683f693",
   "metadata": {
    "execution": {
     "iopub.execute_input": "2025-08-05T07:57:14.713171Z",
     "iopub.status.busy": "2025-08-05T07:57:14.713091Z",
     "iopub.status.idle": "2025-08-05T07:57:14.822808Z",
     "shell.execute_reply": "2025-08-05T07:57:14.822573Z",
     "shell.execute_reply.started": "2025-08-05T07:57:14.713164Z"
    }
   },
   "outputs": [
    {
     "data": {
      "image/png": "[encoded data removed]",
      "text/plain": [
       "<Figure size 640x480 with 1 Axes>"
      ]
     },
     "metadata": {
      "needs_background": "dark"
     },
     "output_type": "display_data"
    }
   ],
   "source": [
    "pd.crosstab(base_credit_df['job'], \n",
    "            base_credit_df['default'], \n",
    "            normalize='index').plot(kind='bar', stacked=True, color=default_var_colours)\n",
    "plt.legend(title='default', bbox_to_anchor=(1.02, 1), loc='upper left')\n",
    "plt.title('Default Rate by Job')\n",
    "plt.xlabel('Job')\n",
    "plt.ylabel('Proportion')\n",
    "plt.xticks(rotation=45)\n",
    "plt.tight_layout()\n",
    "plt.savefig('../images/job_vs_default.png', transparent=True, dpi=300)\n",
    "plt.show()"
   ]
  },
  {
   "cell_type": "markdown",
   "id": "8a5c21ff-f647-4a68-a396-4b875a2ffb82",
   "metadata": {},
   "source": [
    "The analysis of the _job_ feature reveals an unexpected relationship with default rates, challenging common assumptions about income and stability.\n",
    "\n",
    "__Unexpectedly High Risk:__ The 'management self-employed' category exhibits the highest proportion of defaults. This is counterintuitive, as one might assume this group has a higher income. However, this finding could be explained by the inherent volatility and inconsistency of self-employment income compared to a stable salary.\n",
    "\n",
    "__Lack of Differentiation in Other Categories:__ Interestingly, there is very little difference in the default rates among 'skilled employee', 'unemployed non-resident', and 'unskilled resident'. The fact that an 'unemployed' individual has a similar risk profile to a 'skilled employee' is a significant finding and, similar to the credit_history feature, suggests that these category definitions may not be straightforward.\n",
    "\n",
    "This feature provides a valuable but complex signal which in a real world scenario would require delving a little deeper with corresponding stakeholders to understand their definitions. "
   ]
  },
  {
   "cell_type": "markdown",
   "id": "fdbebdf6-c321-4dfc-afcc-38478e78457e",
   "metadata": {},
   "source": [
    "#### Gender vs Default"
   ]
  },
  {
   "cell_type": "code",
   "execution_count": 19,
   "id": "83a43f47-5f65-4917-8310-8352e60731e4",
   "metadata": {
    "execution": {
     "iopub.execute_input": "2025-08-05T07:57:14.823242Z",
     "iopub.status.busy": "2025-08-05T07:57:14.823153Z",
     "iopub.status.idle": "2025-08-05T07:57:14.913923Z",
     "shell.execute_reply": "2025-08-05T07:57:14.913680Z",
     "shell.execute_reply.started": "2025-08-05T07:57:14.823234Z"
    }
   },
   "outputs": [
    {
     "data": {
      "image/png": "[encoded data removed]",
      "text/plain": [
       "<Figure size 640x480 with 1 Axes>"
      ]
     },
     "metadata": {
      "needs_background": "dark"
     },
     "output_type": "display_data"
    }
   ],
   "source": [
    "pd.crosstab(base_credit_df['gender'], \n",
    "            base_credit_df['default'], \n",
    "            normalize='index').plot(kind='bar', stacked=True, color=default_var_colours)\n",
    "plt.title('Default Rate by Gender')\n",
    "plt.xlabel('Gender')\n",
    "plt.ylabel('Proportion')\n",
    "plt.xticks(rotation=0)\n",
    "plt.legend(title='default', bbox_to_anchor=(1.02, 1), loc='upper left')\n",
    "plt.tight_layout()\n",
    "plt.savefig('../images/gender_vs_default.png', transparent=True, dpi=300)\n",
    "plt.show()"
   ]
  },
  {
   "cell_type": "markdown",
   "id": "593af946-d6c0-4984-b874-2a4249f47c0d",
   "metadata": {},
   "source": [
    "The exploratory data analysis shows a statistical disparity in default rates between genders as categorized in this dataset, with the 'female' category exhibiting a higher proportion of defaults than the 'male' category.\n",
    "\n",
    "But this finding has to be handled with extreme caution.\n",
    "\n",
    "This is a statistical correlation within this specific dataset. It does not imply that gender itself is a factor for default. This observed difference is very likely a proxy for other underlying socioeconomic factors that are correlated with gender in this particular sample (e.g., differences in income, job type, or historical access to credit).\n",
    "\n",
    "Using protected-class attributes like gender as a direct input for a credit decision model is unethical and illegal in most regulatory jurisdictions. Due to the serious ethical and legal implications, __I will be explicitly excluding the _gender_ feature from the set of predictors used to train the model__. While it shows a statistical correlation, its use in a real-world lending decision would be irresponsible."
   ]
  },
  {
   "cell_type": "markdown",
   "id": "218f5487-9a17-4a87-9402-1db4c0710478",
   "metadata": {},
   "source": [
    "### Analysis of Numerical Features"
   ]
  },
  {
   "cell_type": "markdown",
   "id": "914abb0c-ad35-4a49-b248-679fccd25399",
   "metadata": {},
   "source": [
    "Having analyzed the categorical variables individually, I will now assess the linear relationships between the numerical features and the target variable in a more efficient manner. I will use correlation heatmap for identifying the strength and direction of these relationships all at once."
   ]
  },
  {
   "cell_type": "code",
   "execution_count": 20,
   "id": "9494341c-3e12-4550-8a86-3a7ff3d089ee",
   "metadata": {
    "execution": {
     "iopub.execute_input": "2025-08-05T07:57:14.914398Z",
     "iopub.status.busy": "2025-08-05T07:57:14.914322Z",
     "iopub.status.idle": "2025-08-05T07:57:14.916502Z",
     "shell.execute_reply": "2025-08-05T07:57:14.916290Z",
     "shell.execute_reply.started": "2025-08-05T07:57:14.914392Z"
    }
   },
   "outputs": [],
   "source": [
    "base_credit_df[['checking_balance', 'amount', \n",
    "                'savings_balance', 'age']] = base_credit_df[['checking_balance', 'amount', 'savings_balance', \n",
    "                                                             'age']].astype(float)"
   ]
  },
  {
   "cell_type": "code",
   "execution_count": 21,
   "id": "170b71e3-1879-4f87-9030-e62936980144",
   "metadata": {
    "execution": {
     "iopub.execute_input": "2025-08-05T07:57:14.916773Z",
     "iopub.status.busy": "2025-08-05T07:57:14.916706Z",
     "iopub.status.idle": "2025-08-05T07:57:14.918455Z",
     "shell.execute_reply": "2025-08-05T07:57:14.918252Z",
     "shell.execute_reply.started": "2025-08-05T07:57:14.916767Z"
    }
   },
   "outputs": [],
   "source": [
    "# Converting the telephone column to is_telephone_present having a boolean for presence or absence of the feature\n",
    "base_credit_df['is_telephone_present'] = np.where(~base_credit_df.telephone.isnull(), 1, 0)"
   ]
  },
  {
   "cell_type": "markdown",
   "id": "8bbcbbd9-028e-4699-b77d-8d0a8595bac6",
   "metadata": {},
   "source": [
    "#### Converting the values in _residence_history_ and _employment_length_ columns to a uniform unit - years"
   ]
  },
  {
   "cell_type": "code",
   "execution_count": 22,
   "id": "258ba750-bdcc-4dc5-9b39-b8e11e0cd57e",
   "metadata": {
    "execution": {
     "iopub.execute_input": "2025-08-05T07:57:14.918860Z",
     "iopub.status.busy": "2025-08-05T07:57:14.918779Z",
     "iopub.status.idle": "2025-08-05T07:57:14.920725Z",
     "shell.execute_reply": "2025-08-05T07:57:14.920508Z",
     "shell.execute_reply.started": "2025-08-05T07:57:14.918853Z"
    }
   },
   "outputs": [],
   "source": [
    "def convert_value_to_years(string_value):\n",
    "    \"\"\"Converts the input value to years. Handles nulls and removals of 'years' or 'months' in the string\"\"\"\n",
    "    \n",
    "    # I assume NaN means 0 years, as decided in our EDA.\n",
    "    if string_value is None:\n",
    "        return 0\n",
    "        \n",
    "    # Ensure it's a string before processing\n",
    "    string_value = str(string_value).lower()\n",
    "\n",
    "    # Use regular expressions to find the number reliably\n",
    "    numbers = re.findall(r'\\d+', string_value)\n",
    "    if not numbers:\n",
    "        return 0.0 # Return 0 if no number is found\n",
    "\n",
    "    value = int(numbers[0])\n",
    "\n",
    "    # Check for unit and convert to years\n",
    "    if 'month' in string_value:\n",
    "        return round(value / 12, 2)\n",
    "    elif 'year' in string_value:\n",
    "        return float(value)\n",
    "    else:\n",
    "        # If no unit is specified, we might need a business rule.\n",
    "        # For now, let's assume it's years if no unit is mentioned.\n",
    "        return float(value)"
   ]
  },
  {
   "cell_type": "code",
   "execution_count": 23,
   "id": "00047d6c-a441-43e4-82c7-5621e1ebdc14",
   "metadata": {
    "execution": {
     "iopub.execute_input": "2025-08-05T07:57:14.920975Z",
     "iopub.status.busy": "2025-08-05T07:57:14.920915Z",
     "iopub.status.idle": "2025-08-05T07:57:14.924124Z",
     "shell.execute_reply": "2025-08-05T07:57:14.923871Z",
     "shell.execute_reply.started": "2025-08-05T07:57:14.920969Z"
    },
    "scrolled": true
   },
   "outputs": [],
   "source": [
    "base_credit_df['residence_history_years'] = base_credit_df.residence_history.apply(convert_value_to_years)\n",
    "\n",
    "base_credit_df['employment_length_years'] = base_credit_df.employment_length.apply(convert_value_to_years)"
   ]
  },
  {
   "cell_type": "code",
   "execution_count": 24,
   "id": "cfbaec77-8c00-4234-bd9c-ded1727d0bee",
   "metadata": {
    "execution": {
     "iopub.execute_input": "2025-08-05T07:57:14.924511Z",
     "iopub.status.busy": "2025-08-05T07:57:14.924445Z",
     "iopub.status.idle": "2025-08-05T07:57:15.045933Z",
     "shell.execute_reply": "2025-08-05T07:57:15.045655Z",
     "shell.execute_reply.started": "2025-08-05T07:57:14.924504Z"
    }
   },
   "outputs": [
    {
     "data": {
      "image/png": "[encoded data removed]",
      "text/plain": [
       "<Figure size 1000x800 with 2 Axes>"
      ]
     },
     "metadata": {
      "needs_background": "dark"
     },
     "output_type": "display_data"
    }
   ],
   "source": [
    "# Select only the numerical columns from the dataframe, including the target\n",
    "numerical_cols = base_credit_df.select_dtypes(include=np.number).columns.tolist()\n",
    "\n",
    "if 'default' not in numerical_cols:\n",
    "    numerical_cols = numerical_cols + ['default']\n",
    "if 'observation_id' in numerical_cols:\n",
    "    numerical_cols.remove('observation_id')\n",
    "\n",
    "# Calculate the correlation matrix\n",
    "correlation_matrix = base_credit_df[numerical_cols].corr()\n",
    "\n",
    "# Plot the heatmap\n",
    "plt.figure(figsize=(10, 8))\n",
    "sns.heatmap(correlation_matrix, annot=True, cmap='coolwarm', fmt=\".2f\")\n",
    "plt.title('Correlation Matrix of Numerical Features')\n",
    "plt.show()"
   ]
  },
  {
   "cell_type": "markdown",
   "id": "c28c56d1-0bed-4891-8ef3-9a4f7e24baf9",
   "metadata": {},
   "source": [
    "#### The correlation heatmap provides a comprehensive overview of the relationships between the numerical features.\n",
    "\n",
    "1. __Predictors of Default__\n",
    "    \n",
    "    - _months_loan_duration_ (Correlation: +0.21): This is the strongest positive predictor. It confirms our earlier visual analysis that longer loan terms are associated with a higher risk of default. This is a cornerstone of credit risk theory.\n",
    "    - _amount_ (Correlation: +0.15): The loan amount also shows a positive correlation with default. This is logical, as larger loans represent a greater financial burden and are inherently riskier.\n",
    "    - _checking_balance_ (Correlation: -0.15): This shows a moderate negative correlation. This suggests that customers with higher checking balances tend to be lower risk."
   ]
  },
  {
   "cell_type": "markdown",
   "id": "e2395e18-57af-4bb4-9064-835a6a5bdea0",
   "metadata": {},
   "source": [
    "2. __Multicollinearity Among Predictors__\n",
    "    - _months_loan_duration_ and _amount_ have the highest positive correlation of +0.62. This makes sense because larger loan amounts have higher loan tenure."
   ]
  },
  {
   "cell_type": "markdown",
   "id": "e7baba54-a76a-415a-b641-08fc9e2e422b",
   "metadata": {},
   "source": [
    "## Data Preprocessing and Feature Engineering"
   ]
  },
  {
   "cell_type": "markdown",
   "id": "d12e2c40-221a-4f68-b9da-100a54458ad6",
   "metadata": {},
   "source": [
    "### Dropping Non-Predictive or Unethical Features"
   ]
  },
  {
   "cell_type": "markdown",
   "id": "710c561d-a3fb-4534-a69b-8c2afc410e3d",
   "metadata": {},
   "source": [
    "I will remove columns that are either non-predictive, irrelevant, or ethically problematic for a credit risk model. These include _observation_id_ as it is just a unique identifier that won't be used in the model, _gender_ due to ethical reasons, _dependents_ due to its lack of predictive power as observed in the EDA step, _residence_history_ as I have cleaned this column and transformed it to residence_history_years, _employment_length_ as I have transformed the values of this column to employment_length_years, _telephone_ as I have created a boolean is_telephone_present for this feature and _loan_duration_category_ as this column was created only for plotting the values"
   ]
  },
  {
   "cell_type": "code",
   "execution_count": 25,
   "id": "54f00143-bbb5-46e3-a9d4-a8b94c4bde21",
   "metadata": {
    "execution": {
     "iopub.execute_input": "2025-08-05T07:57:15.046294Z",
     "iopub.status.busy": "2025-08-05T07:57:15.046213Z",
     "iopub.status.idle": "2025-08-05T07:57:15.048123Z",
     "shell.execute_reply": "2025-08-05T07:57:15.047903Z",
     "shell.execute_reply.started": "2025-08-05T07:57:15.046287Z"
    }
   },
   "outputs": [],
   "source": [
    "# To preserve the original dataframe as it is, i am creating a copy over which i would to all the further processing\n",
    "model_base_df = base_credit_df.copy()"
   ]
  },
  {
   "cell_type": "code",
   "execution_count": 26,
   "id": "41ebf11a-4773-4d8e-b359-effb4a13c770",
   "metadata": {
    "execution": {
     "iopub.execute_input": "2025-08-05T07:57:15.048437Z",
     "iopub.status.busy": "2025-08-05T07:57:15.048372Z",
     "iopub.status.idle": "2025-08-05T07:57:15.050268Z",
     "shell.execute_reply": "2025-08-05T07:57:15.050038Z",
     "shell.execute_reply.started": "2025-08-05T07:57:15.048431Z"
    },
    "scrolled": true
   },
   "outputs": [],
   "source": [
    "model_base_df.drop(['observation_id', 'gender', 'dependents', 'residence_history', 'employment_length', 'telephone',\n",
    "                    'loan_duration_category'], \n",
    "                   axis=1, inplace=True)"
   ]
  },
  {
   "cell_type": "markdown",
   "id": "8d152071-232c-4802-abb8-e879ae590279",
   "metadata": {},
   "source": [
    "### Encoding Categorical Variables:"
   ]
  },
  {
   "cell_type": "markdown",
   "id": "49127d9b-f5c9-408d-bda4-2cf6e264062e",
   "metadata": {},
   "source": [
    "I am using One-Hot Encoding for the categorical features."
   ]
  },
  {
   "cell_type": "code",
   "execution_count": 27,
   "id": "e50818e0-01ae-40e0-9771-e63d0b2c400c",
   "metadata": {
    "execution": {
     "iopub.execute_input": "2025-08-05T07:57:15.050580Z",
     "iopub.status.busy": "2025-08-05T07:57:15.050513Z",
     "iopub.status.idle": "2025-08-05T07:57:15.051949Z",
     "shell.execute_reply": "2025-08-05T07:57:15.051772Z",
     "shell.execute_reply.started": "2025-08-05T07:57:15.050573Z"
    }
   },
   "outputs": [],
   "source": [
    "# Categorical variables that need one-hot encoding\n",
    "categorical_columns = ['purpose', 'credit_history', 'personal_status', 'property', 'foreign_worker', 'job', 'other_debtors',\n",
    "                       'housing', 'installment_plan']"
   ]
  },
  {
   "cell_type": "code",
   "execution_count": 28,
   "id": "cdf0f50d-b349-4cd1-8b25-74e35f929b71",
   "metadata": {
    "execution": {
     "iopub.execute_input": "2025-08-05T07:57:15.052228Z",
     "iopub.status.busy": "2025-08-05T07:57:15.052137Z",
     "iopub.status.idle": "2025-08-05T07:57:15.053951Z",
     "shell.execute_reply": "2025-08-05T07:57:15.053754Z",
     "shell.execute_reply.started": "2025-08-05T07:57:15.052222Z"
    }
   },
   "outputs": [
    {
     "data": {
      "text/plain": [
       "(1000, 20)"
      ]
     },
     "execution_count": 28,
     "metadata": {},
     "output_type": "execute_result"
    }
   ],
   "source": [
    "# Size of the dataframe before encoding\n",
    "model_base_df.shape"
   ]
  },
  {
   "cell_type": "code",
   "execution_count": 29,
   "id": "b052254c-2b25-4c4f-9af4-8ee013e570ab",
   "metadata": {
    "execution": {
     "iopub.execute_input": "2025-08-05T07:57:15.054226Z",
     "iopub.status.busy": "2025-08-05T07:57:15.054165Z",
     "iopub.status.idle": "2025-08-05T07:57:15.059462Z",
     "shell.execute_reply": "2025-08-05T07:57:15.059199Z",
     "shell.execute_reply.started": "2025-08-05T07:57:15.054220Z"
    }
   },
   "outputs": [
    {
     "data": {
      "text/plain": [
       "(1000, 40)"
      ]
     },
     "execution_count": 29,
     "metadata": {},
     "output_type": "execute_result"
    }
   ],
   "source": [
    "# Performing one-hot encoding\n",
    "final_df = pd.get_dummies(model_base_df, columns=categorical_columns, drop_first=True, dtype=int)\n",
    "\n",
    "final_df.shape"
   ]
  },
  {
   "cell_type": "code",
   "execution_count": 30,
   "id": "5aa4420a-25fb-4972-8e75-178364d36370",
   "metadata": {
    "execution": {
     "iopub.execute_input": "2025-08-05T07:57:15.060092Z",
     "iopub.status.busy": "2025-08-05T07:57:15.059983Z",
     "iopub.status.idle": "2025-08-05T07:57:15.066661Z",
     "shell.execute_reply": "2025-08-05T07:57:15.066409Z",
     "shell.execute_reply.started": "2025-08-05T07:57:15.060062Z"
    }
   },
   "outputs": [
    {
     "data": {
      "text/html": [
       "<div>\n",
       "<style scoped>\n",
       "    .dataframe tbody tr th:only-of-type {\n",
       "        vertical-align: middle;\n",
       "    }\n",
       "\n",
       "    .dataframe tbody tr th {\n",
       "        vertical-align: top;\n",
       "    }\n",
       "\n",
       "    .dataframe thead th {\n",
       "        text-align: right;\n",
       "    }\n",
       "</style>\n",
       "<table border=\"1\" class=\"dataframe\">\n",
       "  <thead>\n",
       "    <tr style=\"text-align: right;\">\n",
       "      <th></th>\n",
       "      <th>checking_balance</th>\n",
       "      <th>months_loan_duration</th>\n",
       "      <th>amount</th>\n",
       "      <th>savings_balance</th>\n",
       "      <th>installment_rate</th>\n",
       "      <th>age</th>\n",
       "      <th>existing_credits</th>\n",
       "      <th>default</th>\n",
       "      <th>is_telephone_present</th>\n",
       "      <th>residence_history_years</th>\n",
       "      <th>...</th>\n",
       "      <th>foreign_worker_yes</th>\n",
       "      <th>job_skilled employee</th>\n",
       "      <th>job_unemployed non-resident</th>\n",
       "      <th>job_unskilled resident</th>\n",
       "      <th>other_debtors_guarantor</th>\n",
       "      <th>other_debtors_none</th>\n",
       "      <th>housing_own</th>\n",
       "      <th>housing_rent</th>\n",
       "      <th>installment_plan_none</th>\n",
       "      <th>installment_plan_stores</th>\n",
       "    </tr>\n",
       "  </thead>\n",
       "  <tbody>\n",
       "    <tr>\n",
       "      <th>0</th>\n",
       "      <td>-43.0</td>\n",
       "      <td>6</td>\n",
       "      <td>1169.0</td>\n",
       "      <td>NaN</td>\n",
       "      <td>4</td>\n",
       "      <td>67.0</td>\n",
       "      <td>2</td>\n",
       "      <td>0</td>\n",
       "      <td>1</td>\n",
       "      <td>6.00</td>\n",
       "      <td>...</td>\n",
       "      <td>1</td>\n",
       "      <td>1</td>\n",
       "      <td>0</td>\n",
       "      <td>0</td>\n",
       "      <td>0</td>\n",
       "      <td>1</td>\n",
       "      <td>1</td>\n",
       "      <td>0</td>\n",
       "      <td>1</td>\n",
       "      <td>0</td>\n",
       "    </tr>\n",
       "    <tr>\n",
       "      <th>1</th>\n",
       "      <td>75.0</td>\n",
       "      <td>48</td>\n",
       "      <td>5951.0</td>\n",
       "      <td>89.0</td>\n",
       "      <td>2</td>\n",
       "      <td>22.0</td>\n",
       "      <td>1</td>\n",
       "      <td>1</td>\n",
       "      <td>0</td>\n",
       "      <td>0.42</td>\n",
       "      <td>...</td>\n",
       "      <td>1</td>\n",
       "      <td>1</td>\n",
       "      <td>0</td>\n",
       "      <td>0</td>\n",
       "      <td>0</td>\n",
       "      <td>1</td>\n",
       "      <td>1</td>\n",
       "      <td>0</td>\n",
       "      <td>1</td>\n",
       "      <td>0</td>\n",
       "    </tr>\n",
       "    <tr>\n",
       "      <th>2</th>\n",
       "      <td>NaN</td>\n",
       "      <td>12</td>\n",
       "      <td>2096.0</td>\n",
       "      <td>24.0</td>\n",
       "      <td>2</td>\n",
       "      <td>49.0</td>\n",
       "      <td>1</td>\n",
       "      <td>0</td>\n",
       "      <td>0</td>\n",
       "      <td>4.00</td>\n",
       "      <td>...</td>\n",
       "      <td>1</td>\n",
       "      <td>0</td>\n",
       "      <td>0</td>\n",
       "      <td>1</td>\n",
       "      <td>0</td>\n",
       "      <td>1</td>\n",
       "      <td>1</td>\n",
       "      <td>0</td>\n",
       "      <td>1</td>\n",
       "      <td>0</td>\n",
       "    </tr>\n",
       "    <tr>\n",
       "      <th>3</th>\n",
       "      <td>-32.0</td>\n",
       "      <td>42</td>\n",
       "      <td>7882.0</td>\n",
       "      <td>9.0</td>\n",
       "      <td>2</td>\n",
       "      <td>45.0</td>\n",
       "      <td>1</td>\n",
       "      <td>0</td>\n",
       "      <td>0</td>\n",
       "      <td>13.00</td>\n",
       "      <td>...</td>\n",
       "      <td>1</td>\n",
       "      <td>1</td>\n",
       "      <td>0</td>\n",
       "      <td>0</td>\n",
       "      <td>1</td>\n",
       "      <td>0</td>\n",
       "      <td>0</td>\n",
       "      <td>0</td>\n",
       "      <td>1</td>\n",
       "      <td>0</td>\n",
       "    </tr>\n",
       "    <tr>\n",
       "      <th>4</th>\n",
       "      <td>-23.0</td>\n",
       "      <td>24</td>\n",
       "      <td>4870.0</td>\n",
       "      <td>43.0</td>\n",
       "      <td>3</td>\n",
       "      <td>53.0</td>\n",
       "      <td>2</td>\n",
       "      <td>1</td>\n",
       "      <td>0</td>\n",
       "      <td>13.00</td>\n",
       "      <td>...</td>\n",
       "      <td>1</td>\n",
       "      <td>1</td>\n",
       "      <td>0</td>\n",
       "      <td>0</td>\n",
       "      <td>0</td>\n",
       "      <td>1</td>\n",
       "      <td>0</td>\n",
       "      <td>0</td>\n",
       "      <td>1</td>\n",
       "      <td>0</td>\n",
       "    </tr>\n",
       "    <tr>\n",
       "      <th>5</th>\n",
       "      <td>NaN</td>\n",
       "      <td>36</td>\n",
       "      <td>9055.0</td>\n",
       "      <td>NaN</td>\n",
       "      <td>2</td>\n",
       "      <td>35.0</td>\n",
       "      <td>1</td>\n",
       "      <td>0</td>\n",
       "      <td>1</td>\n",
       "      <td>8.00</td>\n",
       "      <td>...</td>\n",
       "      <td>1</td>\n",
       "      <td>0</td>\n",
       "      <td>0</td>\n",
       "      <td>1</td>\n",
       "      <td>0</td>\n",
       "      <td>1</td>\n",
       "      <td>0</td>\n",
       "      <td>0</td>\n",
       "      <td>1</td>\n",
       "      <td>0</td>\n",
       "    </tr>\n",
       "    <tr>\n",
       "      <th>6</th>\n",
       "      <td>NaN</td>\n",
       "      <td>24</td>\n",
       "      <td>2835.0</td>\n",
       "      <td>761.0</td>\n",
       "      <td>3</td>\n",
       "      <td>53.0</td>\n",
       "      <td>1</td>\n",
       "      <td>0</td>\n",
       "      <td>0</td>\n",
       "      <td>12.00</td>\n",
       "      <td>...</td>\n",
       "      <td>1</td>\n",
       "      <td>1</td>\n",
       "      <td>0</td>\n",
       "      <td>0</td>\n",
       "      <td>0</td>\n",
       "      <td>1</td>\n",
       "      <td>1</td>\n",
       "      <td>0</td>\n",
       "      <td>1</td>\n",
       "      <td>0</td>\n",
       "    </tr>\n",
       "    <tr>\n",
       "      <th>7</th>\n",
       "      <td>169.0</td>\n",
       "      <td>36</td>\n",
       "      <td>6948.0</td>\n",
       "      <td>57.0</td>\n",
       "      <td>2</td>\n",
       "      <td>35.0</td>\n",
       "      <td>1</td>\n",
       "      <td>0</td>\n",
       "      <td>1</td>\n",
       "      <td>0.25</td>\n",
       "      <td>...</td>\n",
       "      <td>1</td>\n",
       "      <td>0</td>\n",
       "      <td>0</td>\n",
       "      <td>0</td>\n",
       "      <td>0</td>\n",
       "      <td>1</td>\n",
       "      <td>0</td>\n",
       "      <td>1</td>\n",
       "      <td>1</td>\n",
       "      <td>0</td>\n",
       "    </tr>\n",
       "    <tr>\n",
       "      <th>8</th>\n",
       "      <td>NaN</td>\n",
       "      <td>12</td>\n",
       "      <td>3059.0</td>\n",
       "      <td>18426.0</td>\n",
       "      <td>2</td>\n",
       "      <td>61.0</td>\n",
       "      <td>1</td>\n",
       "      <td>0</td>\n",
       "      <td>0</td>\n",
       "      <td>24.00</td>\n",
       "      <td>...</td>\n",
       "      <td>1</td>\n",
       "      <td>0</td>\n",
       "      <td>0</td>\n",
       "      <td>1</td>\n",
       "      <td>0</td>\n",
       "      <td>1</td>\n",
       "      <td>1</td>\n",
       "      <td>0</td>\n",
       "      <td>1</td>\n",
       "      <td>0</td>\n",
       "    </tr>\n",
       "    <tr>\n",
       "      <th>9</th>\n",
       "      <td>13.0</td>\n",
       "      <td>30</td>\n",
       "      <td>5234.0</td>\n",
       "      <td>52.0</td>\n",
       "      <td>4</td>\n",
       "      <td>28.0</td>\n",
       "      <td>2</td>\n",
       "      <td>1</td>\n",
       "      <td>0</td>\n",
       "      <td>0.83</td>\n",
       "      <td>...</td>\n",
       "      <td>1</td>\n",
       "      <td>0</td>\n",
       "      <td>0</td>\n",
       "      <td>0</td>\n",
       "      <td>0</td>\n",
       "      <td>1</td>\n",
       "      <td>1</td>\n",
       "      <td>0</td>\n",
       "      <td>1</td>\n",
       "      <td>0</td>\n",
       "    </tr>\n",
       "  </tbody>\n",
       "</table>\n",
       "<p>10 rows × 40 columns</p>\n",
       "</div>"
      ],
      "text/plain": [
       "   checking_balance  months_loan_duration  amount  savings_balance  \\\n",
       "0             -43.0                     6  1169.0              NaN   \n",
       "1              75.0                    48  5951.0             89.0   \n",
       "2               NaN                    12  2096.0             24.0   \n",
       "3             -32.0                    42  7882.0              9.0   \n",
       "4             -23.0                    24  4870.0             43.0   \n",
       "5               NaN                    36  9055.0              NaN   \n",
       "6               NaN                    24  2835.0            761.0   \n",
       "7             169.0                    36  6948.0             57.0   \n",
       "8               NaN                    12  3059.0          18426.0   \n",
       "9              13.0                    30  5234.0             52.0   \n",
       "\n",
       "   installment_rate   age  existing_credits  default  is_telephone_present  \\\n",
       "0                 4  67.0                 2        0                     1   \n",
       "1                 2  22.0                 1        1                     0   \n",
       "2                 2  49.0                 1        0                     0   \n",
       "3                 2  45.0                 1        0                     0   \n",
       "4                 3  53.0                 2        1                     0   \n",
       "5                 2  35.0                 1        0                     1   \n",
       "6                 3  53.0                 1        0                     0   \n",
       "7                 2  35.0                 1        0                     1   \n",
       "8                 2  61.0                 1        0                     0   \n",
       "9                 4  28.0                 2        1                     0   \n",
       "\n",
       "   residence_history_years  ...  foreign_worker_yes  job_skilled employee  \\\n",
       "0                     6.00  ...                   1                     1   \n",
       "1                     0.42  ...                   1                     1   \n",
       "2                     4.00  ...                   1                     0   \n",
       "3                    13.00  ...                   1                     1   \n",
       "4                    13.00  ...                   1                     1   \n",
       "5                     8.00  ...                   1                     0   \n",
       "6                    12.00  ...                   1                     1   \n",
       "7                     0.25  ...                   1                     0   \n",
       "8                    24.00  ...                   1                     0   \n",
       "9                     0.83  ...                   1                     0   \n",
       "\n",
       "   job_unemployed non-resident  job_unskilled resident  \\\n",
       "0                            0                       0   \n",
       "1                            0                       0   \n",
       "2                            0                       1   \n",
       "3                            0                       0   \n",
       "4                            0                       0   \n",
       "5                            0                       1   \n",
       "6                            0                       0   \n",
       "7                            0                       0   \n",
       "8                            0                       1   \n",
       "9                            0                       0   \n",
       "\n",
       "   other_debtors_guarantor  other_debtors_none  housing_own  housing_rent  \\\n",
       "0                        0                   1            1             0   \n",
       "1                        0                   1            1             0   \n",
       "2                        0                   1            1             0   \n",
       "3                        1                   0            0             0   \n",
       "4                        0                   1            0             0   \n",
       "5                        0                   1            0             0   \n",
       "6                        0                   1            1             0   \n",
       "7                        0                   1            0             1   \n",
       "8                        0                   1            1             0   \n",
       "9                        0                   1            1             0   \n",
       "\n",
       "   installment_plan_none  installment_plan_stores  \n",
       "0                      1                        0  \n",
       "1                      1                        0  \n",
       "2                      1                        0  \n",
       "3                      1                        0  \n",
       "4                      1                        0  \n",
       "5                      1                        0  \n",
       "6                      1                        0  \n",
       "7                      1                        0  \n",
       "8                      1                        0  \n",
       "9                      1                        0  \n",
       "\n",
       "[10 rows x 40 columns]"
      ]
     },
     "execution_count": 30,
     "metadata": {},
     "output_type": "execute_result"
    }
   ],
   "source": [
    "final_df.head(10)"
   ]
  },
  {
   "cell_type": "code",
   "execution_count": 31,
   "id": "4030bd99-1b13-46f0-93dc-5c946f85d1d2",
   "metadata": {
    "execution": {
     "iopub.execute_input": "2025-08-05T07:57:15.067048Z",
     "iopub.status.busy": "2025-08-05T07:57:15.066969Z",
     "iopub.status.idle": "2025-08-05T07:57:15.070996Z",
     "shell.execute_reply": "2025-08-05T07:57:15.070776Z",
     "shell.execute_reply.started": "2025-08-05T07:57:15.067040Z"
    },
    "scrolled": true
   },
   "outputs": [
    {
     "name": "stdout",
     "output_type": "stream",
     "text": [
      "<class 'pandas.core.frame.DataFrame'>\n",
      "RangeIndex: 1000 entries, 0 to 999\n",
      "Data columns (total 40 columns):\n",
      " #   Column                                 Non-Null Count  Dtype  \n",
      "---  ------                                 --------------  -----  \n",
      " 0   checking_balance                       606 non-null    float64\n",
      " 1   months_loan_duration                   1000 non-null   int64  \n",
      " 2   amount                                 1000 non-null   float64\n",
      " 3   savings_balance                        817 non-null    float64\n",
      " 4   installment_rate                       1000 non-null   int64  \n",
      " 5   age                                    1000 non-null   float64\n",
      " 6   existing_credits                       1000 non-null   int64  \n",
      " 7   default                                1000 non-null   int64  \n",
      " 8   is_telephone_present                   1000 non-null   int64  \n",
      " 9   residence_history_years                1000 non-null   float64\n",
      " 10  employment_length_years                1000 non-null   float64\n",
      " 11  purpose_car (new)                      1000 non-null   int64  \n",
      " 12  purpose_car (used)                     1000 non-null   int64  \n",
      " 13  purpose_domestic appliances            1000 non-null   int64  \n",
      " 14  purpose_education                      1000 non-null   int64  \n",
      " 15  purpose_furniture                      1000 non-null   int64  \n",
      " 16  purpose_others                         1000 non-null   int64  \n",
      " 17  purpose_radio/tv                       1000 non-null   int64  \n",
      " 18  purpose_repairs                        1000 non-null   int64  \n",
      " 19  purpose_retraining                     1000 non-null   int64  \n",
      " 20  credit_history_delayed                 1000 non-null   int64  \n",
      " 21  credit_history_fully repaid            1000 non-null   int64  \n",
      " 22  credit_history_fully repaid this bank  1000 non-null   int64  \n",
      " 23  credit_history_repaid                  1000 non-null   int64  \n",
      " 24  personal_status_married                1000 non-null   int64  \n",
      " 25  personal_status_single                 1000 non-null   int64  \n",
      " 26  personal_status_unknown                1000 non-null   int64  \n",
      " 27  property_other                         1000 non-null   int64  \n",
      " 28  property_real estate                   1000 non-null   int64  \n",
      " 29  property_unknown/none                  1000 non-null   int64  \n",
      " 30  foreign_worker_yes                     1000 non-null   int64  \n",
      " 31  job_skilled employee                   1000 non-null   int64  \n",
      " 32  job_unemployed non-resident            1000 non-null   int64  \n",
      " 33  job_unskilled resident                 1000 non-null   int64  \n",
      " 34  other_debtors_guarantor                1000 non-null   int64  \n",
      " 35  other_debtors_none                     1000 non-null   int64  \n",
      " 36  housing_own                            1000 non-null   int64  \n",
      " 37  housing_rent                           1000 non-null   int64  \n",
      " 38  installment_plan_none                  1000 non-null   int64  \n",
      " 39  installment_plan_stores                1000 non-null   int64  \n",
      "dtypes: float64(6), int64(34)\n",
      "memory usage: 312.6 KB\n"
     ]
    }
   ],
   "source": [
    "final_df.info()"
   ]
  },
  {
   "cell_type": "markdown",
   "id": "d75376f7-0e52-4b48-b1ed-b86fae094fe8",
   "metadata": {},
   "source": [
    "### Separate Features (X) and Target (y)"
   ]
  },
  {
   "cell_type": "code",
   "execution_count": 32,
   "id": "132806a8-47a2-4e77-a171-7eefbf4a3d83",
   "metadata": {
    "execution": {
     "iopub.execute_input": "2025-08-05T07:57:15.071506Z",
     "iopub.status.busy": "2025-08-05T07:57:15.071404Z",
     "iopub.status.idle": "2025-08-05T07:57:15.073414Z",
     "shell.execute_reply": "2025-08-05T07:57:15.073164Z",
     "shell.execute_reply.started": "2025-08-05T07:57:15.071476Z"
    }
   },
   "outputs": [],
   "source": [
    "x = final_df.drop('default', axis=1)\n",
    "y = final_df['default']"
   ]
  },
  {
   "cell_type": "markdown",
   "id": "f42afee1-2a5d-4de1-a927-84de7237ba33",
   "metadata": {
    "jp-MarkdownHeadingCollapsed": true
   },
   "source": [
    "## Train-Test Split"
   ]
  },
  {
   "cell_type": "markdown",
   "id": "ab238107-4d3a-4e99-835b-ed90388bcaa6",
   "metadata": {},
   "source": [
    "Before any further preprocessing (like imputation), it is essential to split the data into training and testing sets. \n",
    "\n",
    "I will use a stratified split to maintain the same proportion of default vs. non-default loans in both the training and test sets, which is crucial for an imbalanced dataset."
   ]
  },
  {
   "cell_type": "code",
   "execution_count": 33,
   "id": "4a8134d6-7ff7-4694-ae5c-90f89c507cfe",
   "metadata": {
    "execution": {
     "iopub.execute_input": "2025-08-05T07:57:15.073746Z",
     "iopub.status.busy": "2025-08-05T07:57:15.073655Z",
     "iopub.status.idle": "2025-08-05T07:57:15.077721Z",
     "shell.execute_reply": "2025-08-05T07:57:15.077477Z",
     "shell.execute_reply.started": "2025-08-05T07:57:15.073719Z"
    }
   },
   "outputs": [],
   "source": [
    "# Splitting the data into 75% training and 25% testing\n",
    "# random_state ensures reproducibility\n",
    "# stratify=y is crucial for imbalanced datasets\n",
    "x_train, x_test, y_train, y_test = train_test_split(x, y, test_size=0.25, random_state=42, stratify=y)"
   ]
  },
  {
   "cell_type": "code",
   "execution_count": 34,
   "id": "79bcae08-3ed9-4eba-9e1a-4c65df53c451",
   "metadata": {
    "execution": {
     "iopub.execute_input": "2025-08-05T07:57:15.078120Z",
     "iopub.status.busy": "2025-08-05T07:57:15.078038Z",
     "iopub.status.idle": "2025-08-05T07:57:15.079851Z",
     "shell.execute_reply": "2025-08-05T07:57:15.079531Z",
     "shell.execute_reply.started": "2025-08-05T07:57:15.078112Z"
    }
   },
   "outputs": [
    {
     "name": "stdout",
     "output_type": "stream",
     "text": [
      "Training set shape: (750, 39)\n",
      "Testing set shape: (250, 39)\n"
     ]
    }
   ],
   "source": [
    "print(\"Training set shape:\", x_train.shape)\n",
    "print(\"Testing set shape:\", x_test.shape)"
   ]
  },
  {
   "cell_type": "markdown",
   "id": "7ee3dce3-d50c-44fb-a919-afb6b093b17a",
   "metadata": {},
   "source": [
    "### Imputation Strategy"
   ]
  },
  {
   "cell_type": "markdown",
   "id": "724b6b8e-f596-4e2a-95aa-2e196e16d010",
   "metadata": {},
   "source": [
    "Now that the data is split, I will proceed with the imputation of missing values in the numerical columns. Imputation is needed in _checking_balance_ and _savings_balance_ columns. I will impute the median of training data values in place of nulls in the training data and use the same values in test data."
   ]
  },
  {
   "cell_type": "code",
   "execution_count": 35,
   "id": "b53843cf-bf46-46f3-bb6f-82ce2aaada37",
   "metadata": {
    "execution": {
     "iopub.execute_input": "2025-08-05T07:57:15.080374Z",
     "iopub.status.busy": "2025-08-05T07:57:15.080272Z",
     "iopub.status.idle": "2025-08-05T07:57:15.082731Z",
     "shell.execute_reply": "2025-08-05T07:57:15.082478Z",
     "shell.execute_reply.started": "2025-08-05T07:57:15.080366Z"
    }
   },
   "outputs": [
    {
     "name": "stdout",
     "output_type": "stream",
     "text": [
      "The median for 'checking_balance' calculated from the training set is: 25.0\n",
      "The median for 'savings_balance' calculated from the training set is: 67.0\n"
     ]
    }
   ],
   "source": [
    "# Calculating the median ONLY from the training data\n",
    "checking_balance_median = x_train['checking_balance'].median()\n",
    "print(f\"The median for 'checking_balance' calculated from the training set is: {checking_balance_median}\")\n",
    "\n",
    "saving_balance_median = x_train['savings_balance'].median()\n",
    "print(f\"The median for 'savings_balance' calculated from the training set is: {saving_balance_median}\")"
   ]
  },
  {
   "cell_type": "code",
   "execution_count": 36,
   "id": "32602a93-c9da-4a0c-8c08-506655be2dc7",
   "metadata": {
    "execution": {
     "iopub.execute_input": "2025-08-05T07:57:15.083288Z",
     "iopub.status.busy": "2025-08-05T07:57:15.083165Z",
     "iopub.status.idle": "2025-08-05T07:57:15.087223Z",
     "shell.execute_reply": "2025-08-05T07:57:15.086987Z",
     "shell.execute_reply.started": "2025-08-05T07:57:15.083276Z"
    }
   },
   "outputs": [],
   "source": [
    "x_train['checking_balance'] = x_train['checking_balance'].fillna(checking_balance_median)\n",
    "x_train['savings_balance'] = x_train['savings_balance'].fillna(saving_balance_median)"
   ]
  },
  {
   "cell_type": "code",
   "execution_count": 37,
   "id": "a5195d99-d96a-4de7-9a26-fb0528aa24b7",
   "metadata": {
    "execution": {
     "iopub.execute_input": "2025-08-05T07:57:15.087616Z",
     "iopub.status.busy": "2025-08-05T07:57:15.087536Z",
     "iopub.status.idle": "2025-08-05T07:57:15.090955Z",
     "shell.execute_reply": "2025-08-05T07:57:15.090702Z",
     "shell.execute_reply.started": "2025-08-05T07:57:15.087608Z"
    }
   },
   "outputs": [],
   "source": [
    "# Imputation on test set\n",
    "x_test['checking_balance'] = x_test['checking_balance'].fillna(checking_balance_median)\n",
    "x_test['savings_balance'] = x_test['savings_balance'].fillna(saving_balance_median)"
   ]
  },
  {
   "cell_type": "code",
   "execution_count": 38,
   "id": "69936b66-8558-4fcb-8f1f-5833ad10ff95",
   "metadata": {
    "execution": {
     "iopub.execute_input": "2025-08-05T07:57:15.091399Z",
     "iopub.status.busy": "2025-08-05T07:57:15.091306Z",
     "iopub.status.idle": "2025-08-05T07:57:15.095173Z",
     "shell.execute_reply": "2025-08-05T07:57:15.094953Z",
     "shell.execute_reply.started": "2025-08-05T07:57:15.091387Z"
    },
    "scrolled": true
   },
   "outputs": [
    {
     "name": "stdout",
     "output_type": "stream",
     "text": [
      "<class 'pandas.core.frame.DataFrame'>\n",
      "Index: 750 entries, 350 to 749\n",
      "Data columns (total 39 columns):\n",
      " #   Column                                 Non-Null Count  Dtype  \n",
      "---  ------                                 --------------  -----  \n",
      " 0   checking_balance                       750 non-null    float64\n",
      " 1   months_loan_duration                   750 non-null    int64  \n",
      " 2   amount                                 750 non-null    float64\n",
      " 3   savings_balance                        750 non-null    float64\n",
      " 4   installment_rate                       750 non-null    int64  \n",
      " 5   age                                    750 non-null    float64\n",
      " 6   existing_credits                       750 non-null    int64  \n",
      " 7   is_telephone_present                   750 non-null    int64  \n",
      " 8   residence_history_years                750 non-null    float64\n",
      " 9   employment_length_years                750 non-null    float64\n",
      " 10  purpose_car (new)                      750 non-null    int64  \n",
      " 11  purpose_car (used)                     750 non-null    int64  \n",
      " 12  purpose_domestic appliances            750 non-null    int64  \n",
      " 13  purpose_education                      750 non-null    int64  \n",
      " 14  purpose_furniture                      750 non-null    int64  \n",
      " 15  purpose_others                         750 non-null    int64  \n",
      " 16  purpose_radio/tv                       750 non-null    int64  \n",
      " 17  purpose_repairs                        750 non-null    int64  \n",
      " 18  purpose_retraining                     750 non-null    int64  \n",
      " 19  credit_history_delayed                 750 non-null    int64  \n",
      " 20  credit_history_fully repaid            750 non-null    int64  \n",
      " 21  credit_history_fully repaid this bank  750 non-null    int64  \n",
      " 22  credit_history_repaid                  750 non-null    int64  \n",
      " 23  personal_status_married                750 non-null    int64  \n",
      " 24  personal_status_single                 750 non-null    int64  \n",
      " 25  personal_status_unknown                750 non-null    int64  \n",
      " 26  property_other                         750 non-null    int64  \n",
      " 27  property_real estate                   750 non-null    int64  \n",
      " 28  property_unknown/none                  750 non-null    int64  \n",
      " 29  foreign_worker_yes                     750 non-null    int64  \n",
      " 30  job_skilled employee                   750 non-null    int64  \n",
      " 31  job_unemployed non-resident            750 non-null    int64  \n",
      " 32  job_unskilled resident                 750 non-null    int64  \n",
      " 33  other_debtors_guarantor                750 non-null    int64  \n",
      " 34  other_debtors_none                     750 non-null    int64  \n",
      " 35  housing_own                            750 non-null    int64  \n",
      " 36  housing_rent                           750 non-null    int64  \n",
      " 37  installment_plan_none                  750 non-null    int64  \n",
      " 38  installment_plan_stores                750 non-null    int64  \n",
      "dtypes: float64(6), int64(33)\n",
      "memory usage: 234.4 KB\n"
     ]
    }
   ],
   "source": [
    "# Verifying that no missing values remain:\n",
    "x_train.info()"
   ]
  },
  {
   "cell_type": "code",
   "execution_count": 39,
   "id": "0175d2b1-9b47-4291-a026-a22bd6622ce9",
   "metadata": {
    "execution": {
     "iopub.execute_input": "2025-08-05T07:57:15.099046Z",
     "iopub.status.busy": "2025-08-05T07:57:15.098933Z",
     "iopub.status.idle": "2025-08-05T07:57:15.102655Z",
     "shell.execute_reply": "2025-08-05T07:57:15.102361Z",
     "shell.execute_reply.started": "2025-08-05T07:57:15.099036Z"
    },
    "scrolled": true
   },
   "outputs": [
    {
     "name": "stdout",
     "output_type": "stream",
     "text": [
      "<class 'pandas.core.frame.DataFrame'>\n",
      "Index: 250 entries, 522 to 395\n",
      "Data columns (total 39 columns):\n",
      " #   Column                                 Non-Null Count  Dtype  \n",
      "---  ------                                 --------------  -----  \n",
      " 0   checking_balance                       250 non-null    float64\n",
      " 1   months_loan_duration                   250 non-null    int64  \n",
      " 2   amount                                 250 non-null    float64\n",
      " 3   savings_balance                        250 non-null    float64\n",
      " 4   installment_rate                       250 non-null    int64  \n",
      " 5   age                                    250 non-null    float64\n",
      " 6   existing_credits                       250 non-null    int64  \n",
      " 7   is_telephone_present                   250 non-null    int64  \n",
      " 8   residence_history_years                250 non-null    float64\n",
      " 9   employment_length_years                250 non-null    float64\n",
      " 10  purpose_car (new)                      250 non-null    int64  \n",
      " 11  purpose_car (used)                     250 non-null    int64  \n",
      " 12  purpose_domestic appliances            250 non-null    int64  \n",
      " 13  purpose_education                      250 non-null    int64  \n",
      " 14  purpose_furniture                      250 non-null    int64  \n",
      " 15  purpose_others                         250 non-null    int64  \n",
      " 16  purpose_radio/tv                       250 non-null    int64  \n",
      " 17  purpose_repairs                        250 non-null    int64  \n",
      " 18  purpose_retraining                     250 non-null    int64  \n",
      " 19  credit_history_delayed                 250 non-null    int64  \n",
      " 20  credit_history_fully repaid            250 non-null    int64  \n",
      " 21  credit_history_fully repaid this bank  250 non-null    int64  \n",
      " 22  credit_history_repaid                  250 non-null    int64  \n",
      " 23  personal_status_married                250 non-null    int64  \n",
      " 24  personal_status_single                 250 non-null    int64  \n",
      " 25  personal_status_unknown                250 non-null    int64  \n",
      " 26  property_other                         250 non-null    int64  \n",
      " 27  property_real estate                   250 non-null    int64  \n",
      " 28  property_unknown/none                  250 non-null    int64  \n",
      " 29  foreign_worker_yes                     250 non-null    int64  \n",
      " 30  job_skilled employee                   250 non-null    int64  \n",
      " 31  job_unemployed non-resident            250 non-null    int64  \n",
      " 32  job_unskilled resident                 250 non-null    int64  \n",
      " 33  other_debtors_guarantor                250 non-null    int64  \n",
      " 34  other_debtors_none                     250 non-null    int64  \n",
      " 35  housing_own                            250 non-null    int64  \n",
      " 36  housing_rent                           250 non-null    int64  \n",
      " 37  installment_plan_none                  250 non-null    int64  \n",
      " 38  installment_plan_stores                250 non-null    int64  \n",
      "dtypes: float64(6), int64(33)\n",
      "memory usage: 78.1 KB\n"
     ]
    }
   ],
   "source": [
    "x_test.info()"
   ]
  },
  {
   "cell_type": "markdown",
   "id": "1bf216b5-d893-44a0-894f-bc81cc218c20",
   "metadata": {},
   "source": [
    "## Model Development"
   ]
  },
  {
   "cell_type": "markdown",
   "id": "3a5d33ab-7f3a-4c2d-8525-4284fa412c2f",
   "metadata": {},
   "source": [
    "With the data preprocessed and ready, I will now develop two models:\n",
    "\n",
    "1. A Logistic Regression model to serve as a simple, interpretable baseline.\n",
    "2. An XGBoost model as our more powerful champion model.\n",
    "\n",
    "I will train both models on the training data and evaluate their initial performance.\n"
   ]
  },
  {
   "cell_type": "markdown",
   "id": "8959e78c-63d7-4cdc-af94-ddbec45ae617",
   "metadata": {},
   "source": [
    "__Rationale for these two models:__ Before building a complex model, I will establish a baseline using Logistic Regression. This simple, interpretable model provides a benchmark score that any more advanced model must significantly outperform. For my primary model, I am choosing XGBoost. It is a powerful gradient boosting algorithm renowned for its high performance on tabular data, its ability to handle complex interactions between features, and its built-in regularization to prevent overfitting."
   ]
  },
  {
   "cell_type": "markdown",
   "id": "613c757e-f042-4126-b129-decce6d08a78",
   "metadata": {},
   "source": [
    "### Baseline Model: Logistic Regression"
   ]
  },
  {
   "cell_type": "markdown",
   "id": "682b1a2c-a6e5-4c3c-9c00-014a7be5b41e",
   "metadata": {},
   "source": [
    "#### Feature Scaling"
   ]
  },
  {
   "cell_type": "code",
   "execution_count": 40,
   "id": "832cb92d-15cb-41e7-b870-f73d9b524304",
   "metadata": {
    "execution": {
     "iopub.execute_input": "2025-08-05T07:57:15.103010Z",
     "iopub.status.busy": "2025-08-05T07:57:15.102938Z",
     "iopub.status.idle": "2025-08-05T07:57:15.106823Z",
     "shell.execute_reply": "2025-08-05T07:57:15.106497Z",
     "shell.execute_reply.started": "2025-08-05T07:57:15.103002Z"
    }
   },
   "outputs": [],
   "source": [
    "## For Logistic Regression model, it is crucial to scale the features to ensure the algorithm performs correctly.\n",
    "\n",
    "# Initialize the scaler\n",
    "scaler = StandardScaler()\n",
    "\n",
    "# Fit the scaler ONLY on the training data to learn the mean and standard deviation\n",
    "scaler.fit(x_train)\n",
    "\n",
    "# Transform both the training and testing data using the fitted scaler\n",
    "x_train_scaled = scaler.transform(x_train)\n",
    "x_test_scaled = scaler.transform(x_test)"
   ]
  },
  {
   "cell_type": "markdown",
   "id": "d21da11d-7423-4f81-a316-0aad0119bd61",
   "metadata": {},
   "source": [
    "#### Model Building"
   ]
  },
  {
   "cell_type": "code",
   "execution_count": 41,
   "id": "5f63f41a-ecd8-43b0-83bf-d54f1243e626",
   "metadata": {
    "execution": {
     "iopub.execute_input": "2025-08-05T07:57:15.107267Z",
     "iopub.status.busy": "2025-08-05T07:57:15.107187Z",
     "iopub.status.idle": "2025-08-05T07:57:15.126969Z",
     "shell.execute_reply": "2025-08-05T07:57:15.126707Z",
     "shell.execute_reply.started": "2025-08-05T07:57:15.107260Z"
    }
   },
   "outputs": [
    {
     "name": "stdout",
     "output_type": "stream",
     "text": [
      "\n",
      "--- Logistic Regression Baseline Results (with Scaling) ---\n",
      "Confusion Matrix:\n",
      "[[118  57]\n",
      " [ 21  54]]\n",
      "\n",
      "Classification Report:\n",
      "              precision    recall  f1-score   support\n",
      "\n",
      "           0       0.85      0.67      0.75       175\n",
      "           1       0.49      0.72      0.58        75\n",
      "\n",
      "    accuracy                           0.69       250\n",
      "   macro avg       0.67      0.70      0.67       250\n",
      "weighted avg       0.74      0.69      0.70       250\n",
      "\n",
      "\n",
      "ROC AUC Score: 0.7586\n",
      "------------------------------------------------------------\n"
     ]
    }
   ],
   "source": [
    "# Initialize and train the model on the SCALED training data\n",
    "# Using class_weight='balanced' is a good practice for imbalanced datasets\n",
    "log_reg = LogisticRegression(class_weight='balanced', max_iter=1000, random_state=42)\n",
    "log_reg.fit(x_train_scaled, y_train)\n",
    "\n",
    "# Make predictions on the SCALED test set\n",
    "y_pred_log_reg = log_reg.predict(x_test_scaled)\n",
    "y_pred_proba_log_reg = log_reg.predict_proba(x_test_scaled)[:, 1]\n",
    "\n",
    "# Evaluate the model\n",
    "print(\"\\n--- Logistic Regression Baseline Results (with Scaling) ---\")\n",
    "print(\"Confusion Matrix:\")\n",
    "print(confusion_matrix(y_test, y_pred_log_reg))\n",
    "print(\"\\nClassification Report:\")\n",
    "print(classification_report(y_test, y_pred_log_reg))\n",
    "print(f\"\\nROC AUC Score: {roc_auc_score(y_test, y_pred_proba_log_reg):.4f}\")\n",
    "print(\"------------------------------------------------------------\")"
   ]
  },
  {
   "cell_type": "markdown",
   "id": "25db690a-77e8-4150-88ed-f8eb99e33564",
   "metadata": {},
   "source": [
    "#### Key Takeaways:\n",
    "__Interpretation:__ ROC AUC Score of 0.7586 confirms that the variables have a predictive power. Precision of 0.85 for class 0 (non-default) is very good, meaning the model can predict good loans 85% of the time. The Recall for class 1 is 0.72 meaning the model correctly identifies default customers but on the other hand, for class 1 (default) the value of Precision is only 49% which indicates the model also flags many good customers as bad.\n",
    "\n",
    "\n",
    "__Baseline verdict:__ The Logistic Regression model is a useful but imperfect baseline. Our goal for the XGBoost model will be to improve upon this balance — ideally, we want to increase the precision for the default class without significantly sacrificing the recall. We want to be more accurate when we flag a loan as \"bad\"."
   ]
  },
  {
   "cell_type": "markdown",
   "id": "f54c7d98-5893-4220-b4ce-42a0d8636d45",
   "metadata": {},
   "source": [
    "### Champion Model: XGBoost Model"
   ]
  },
  {
   "cell_type": "code",
   "execution_count": 42,
   "id": "5685b90f-bc34-475f-b06e-187997f8213b",
   "metadata": {
    "execution": {
     "iopub.execute_input": "2025-08-05T07:57:15.127363Z",
     "iopub.status.busy": "2025-08-05T07:57:15.127293Z",
     "iopub.status.idle": "2025-08-05T07:57:15.322823Z",
     "shell.execute_reply": "2025-08-05T07:57:15.322601Z",
     "shell.execute_reply.started": "2025-08-05T07:57:15.127356Z"
    }
   },
   "outputs": [
    {
     "name": "stdout",
     "output_type": "stream",
     "text": [
      "--- XGBoost Champion Model Results ---\n",
      "Confusion Matrix:\n",
      "[[137  38]\n",
      " [ 38  37]]\n",
      "\n",
      "Classification Report:\n",
      "              precision    recall  f1-score   support\n",
      "\n",
      "           0       0.78      0.78      0.78       175\n",
      "           1       0.49      0.49      0.49        75\n",
      "\n",
      "    accuracy                           0.70       250\n",
      "   macro avg       0.64      0.64      0.64       250\n",
      "weighted avg       0.70      0.70      0.70       250\n",
      "\n",
      "\n",
      "ROC AUC Score: 0.7201\n",
      "------------------------------------------------------------\n"
     ]
    }
   ],
   "source": [
    "# scale_pos_weight is a common parameter to handle class imbalance in XGBoost\n",
    "# It's calculated as: count(negative_class) / count(positive_class)\n",
    "scale_pos_weight = (y_train == 0).sum() / (y_train == 1).sum()\n",
    "\n",
    "xgb_clf = xgb.XGBClassifier(\n",
    "    objective='binary:logistic',\n",
    "    scale_pos_weight=scale_pos_weight,\n",
    "    use_label_encoder=False,\n",
    "    eval_metric='logloss',\n",
    "    random_state=42\n",
    ")\n",
    "xgb_clf.fit(x_train, y_train)\n",
    "\n",
    "# Make predictions on the test set\n",
    "y_pred_xgb = xgb_clf.predict(x_test)\n",
    "y_pred_proba_xgb = xgb_clf.predict_proba(x_test)[:, 1]\n",
    "\n",
    "# Evaluate the model\n",
    "print(\"--- XGBoost Champion Model Results ---\")\n",
    "print(\"Confusion Matrix:\")\n",
    "print(confusion_matrix(y_test, y_pred_xgb))\n",
    "print(\"\\nClassification Report:\")\n",
    "print(classification_report(y_test, y_pred_xgb))\n",
    "print(f\"\\nROC AUC Score: {roc_auc_score(y_test, y_pred_proba_xgb):.4f}\")\n",
    "print(\"------------------------------------------------------------\")"
   ]
  },
  {
   "cell_type": "markdown",
   "id": "625d6473-4e18-4541-97ce-0e43be5c411f",
   "metadata": {},
   "source": [
    "#### Comparison of Baseline Model with Champion Model:"
   ]
  },
  {
   "cell_type": "markdown",
   "id": "2c1f73cd-aef3-46ff-bbb0-a358647be1b1",
   "metadata": {},
   "source": [
    "|Metric|Logistic Regression (Aggressive)|XGBoost (Balanced)|Business Implication|\n",
    "|---|---|---|---|\n",
    "|Defaults Identified (True Positives)|54 out of 75|37 out of 75|XGBoost is less effective at catching every single defaulter.|\n",
    "|Good Customers Wrongly Flagged (False Positives)|57|38|XGBoost makes 33% fewer critical mistakes on good customers.|\n",
    "|ROC AUC|0.7586|0.7201|The baseline's higher AUC was driven by its high recall.|\n"
   ]
  },
  {
   "cell_type": "markdown",
   "id": "3c2168e5-275e-4c2d-9034-d1e6ca71ffde",
   "metadata": {},
   "source": [
    "__Conclusion:__ The XGBoost model is not \"worse,\" it is safer. It prioritizes reducing the number of incorrectly flagged good customers over catching every single bad one. The choice between these two models in a real-world scenario would depend entirely on the business's risk appetite. In my experience, the goal normally is sustainable, low-risk lending. The more balanced XGBoost model is a much better starting point for this goal"
   ]
  },
  {
   "cell_type": "markdown",
   "id": "00b6206b-3080-415e-8278-fffddb52b3b7",
   "metadata": {},
   "source": [
    "### XGBoost: Parameter Tuning"
   ]
  },
  {
   "cell_type": "code",
   "execution_count": 43,
   "id": "c64d8616-f4b5-43b4-bc10-fad55b683f07",
   "metadata": {
    "execution": {
     "iopub.execute_input": "2025-08-05T07:57:15.323146Z",
     "iopub.status.busy": "2025-08-05T07:57:15.323073Z",
     "iopub.status.idle": "2025-08-05T07:57:24.037595Z",
     "shell.execute_reply": "2025-08-05T07:57:24.037313Z",
     "shell.execute_reply.started": "2025-08-05T07:57:15.323138Z"
    }
   },
   "outputs": [
    {
     "name": "stdout",
     "output_type": "stream",
     "text": [
      "Fitting 3 folds for each of 10 candidates, totalling 30 fits\n",
      "\n",
      "Best Parameters found: {'subsample': 0.8, 'n_estimators': 200, 'min_child_weight': 2, 'max_depth': 3, 'learning_rate': 0.05, 'colsample_bytree': 0.7}\n",
      "\n",
      "Best ROC AUC Score from Cross-Validation: 0.7738\n"
     ]
    }
   ],
   "source": [
    "# 1. Parameter Distribution Grid that RandomizedSearchCV will sample from\n",
    "param_grid = {\n",
    "    'learning_rate': [0.01, 0.05, 0.1, 0.2],\n",
    "    'max_depth': [3, 4, 5, 6],\n",
    "    'min_child_weight': [1, 2, 3],\n",
    "    'subsample': [0.7, 0.8, 0.9],\n",
    "    'colsample_bytree': [0.7, 0.8, 0.9],\n",
    "    'n_estimators': [100, 200, 300]\n",
    "}\n",
    "\n",
    "# 2. Base XGBoost classifier\n",
    "# The parameters will be filled in by the search\n",
    "xgb_base = xgb.XGBClassifier(\n",
    "    objective='binary:logistic',\n",
    "    scale_pos_weight=scale_pos_weight, # Defined above\n",
    "    use_label_encoder=False,\n",
    "    eval_metric='logloss',\n",
    "    random_state=42\n",
    ")\n",
    "\n",
    "# 3. Stratified K-Fold cross-validation for imbalanced classification\n",
    "skf = StratifiedKFold(n_splits=3, shuffle=True, random_state=42)\n",
    "\n",
    "# RandomizedSearchCV\n",
    "# the value in n_iter means that it will randomly try those many different combinations of the possibilities \n",
    "# from the parameter distribution grid shown above\n",
    "random_search = RandomizedSearchCV(\n",
    "    estimator=xgb_base,\n",
    "    param_distributions=param_grid,\n",
    "    n_iter=10,  # Control how many combinations to try\n",
    "    scoring='roc_auc',\n",
    "    cv=skf,\n",
    "    verbose=1,\n",
    "    random_state=42\n",
    ")\n",
    "\n",
    "# 5. Running the search on the training data\n",
    "random_search.fit(x_train, y_train)\n",
    "\n",
    "# 6. Best parameters and the best score\n",
    "print(\"\\nBest Parameters found:\", random_search.best_params_)\n",
    "print(f\"\\nBest ROC AUC Score from Cross-Validation: {random_search.best_score_:.4f}\")"
   ]
  },
  {
   "cell_type": "code",
   "execution_count": 44,
   "id": "919996dc-0c42-46e2-b1b9-f4490a96a9c1",
   "metadata": {
    "execution": {
     "iopub.execute_input": "2025-08-05T07:57:24.038059Z",
     "iopub.status.busy": "2025-08-05T07:57:24.037970Z",
     "iopub.status.idle": "2025-08-05T07:57:24.047637Z",
     "shell.execute_reply": "2025-08-05T07:57:24.047385Z",
     "shell.execute_reply.started": "2025-08-05T07:57:24.038050Z"
    }
   },
   "outputs": [
    {
     "name": "stdout",
     "output_type": "stream",
     "text": [
      "\n",
      "--- Tuned XGBoost Model Results ---\n",
      "Confusion Matrix:\n",
      "[[131  44]\n",
      " [ 26  49]]\n",
      "\n",
      "Classification Report:\n",
      "              precision    recall  f1-score   support\n",
      "\n",
      "           0       0.83      0.75      0.79       175\n",
      "           1       0.53      0.65      0.58        75\n",
      "\n",
      "    accuracy                           0.72       250\n",
      "   macro avg       0.68      0.70      0.69       250\n",
      "weighted avg       0.74      0.72      0.73       250\n",
      "\n",
      "\n",
      "ROC AUC Score on Test Set: 0.7845\n",
      "------------------------------------------------------------\n"
     ]
    }
   ],
   "source": [
    "# 7. Using the best estimator to make predictions \n",
    "best_xgb = random_search.best_estimator_\n",
    "y_pred_tuned = best_xgb.predict(x_test)\n",
    "y_pred_proba_tuned = best_xgb.predict_proba(x_test)[:, 1]\n",
    "\n",
    "# 8. Evaluate the tuned model\n",
    "print(\"\\n--- Tuned XGBoost Model Results ---\")\n",
    "print(\"Confusion Matrix:\")\n",
    "print(confusion_matrix(y_test, y_pred_tuned))\n",
    "print(\"\\nClassification Report:\")\n",
    "print(classification_report(y_test, y_pred_tuned))\n",
    "print(f\"\\nROC AUC Score on Test Set: {roc_auc_score(y_test, y_pred_proba_tuned):.4f}\")\n",
    "print(\"------------------------------------------------------------\")"
   ]
  },
  {
   "cell_type": "markdown",
   "id": "3fc534c4-904d-4de9-9635-07212320b2b8",
   "metadata": {},
   "source": [
    "__A Note on Hyperparameter Search (n_iter)__\n",
    "\n",
    "During my experimentation, I found that a search with n_iter=10 produced a more balanced and precise model on the test set than a search with n_iter=20. Therefore, I have chosen to proceed with the results from the more robust 10-iteration model."
   ]
  },
  {
   "cell_type": "markdown",
   "id": "9a67a9f3-31ec-4226-b1e6-89a1d86105ac",
   "metadata": {},
   "source": [
    "#### Interpretation of Tuned XGBoost Model Results"
   ]
  },
  {
   "cell_type": "markdown",
   "id": "f6d88fe6-83f2-4839-8d8d-e028cbb8f3e3",
   "metadata": {},
   "source": [
    "The hyperparameter tuning process has yielded a significantly improved and more commercially viable model. The ROC AUC Score on the test set has increased to 0.7845, surpassing the Logistic Regression baseline and demonstrating a superior ability to discriminate between high-risk and low-risk applicants.\n",
    "The most important improvements can be seen in the trade-off between Precision and Recall for the default class (class 1)."
   ]
  },
  {
   "cell_type": "markdown",
   "id": "cb6a0b50-c4e3-4e80-8618-3b6da2802603",
   "metadata": {},
   "source": [
    "### Model Comparison"
   ]
  },
  {
   "cell_type": "markdown",
   "id": "35591a89-31d5-4ab0-84ca-da1aed2cb34e",
   "metadata": {},
   "source": [
    "|Metric|Baseline XGBoost|Tuned XGBoost|Improvement|\n",
    "|---|---|---|---|\n",
    "|ROC AUC|0.7201|0.7845|Significant Increase of 8.9%|\n",
    "|Precision (for Default)|0.49|0.53|Major Improvement of 8.2%|\n",
    "|Recall (for Default)|0.49|0.65|Major Improvement by 32.7%|\n",
    "|F1-Score (for Default)|0.49|0.58|Significant Increase by 18.4%|"
   ]
  },
  {
   "cell_type": "markdown",
   "id": "37ff0e65-8e83-4bbc-98be-cf38869d4ff7",
   "metadata": {},
   "source": [
    "#### Key Takeaways"
   ]
  },
  {
   "cell_type": "markdown",
   "id": "6f3124f0-025e-4567-9d6c-24504a0443d0",
   "metadata": {},
   "source": [
    "__More Accurate Risk Identification:__ The __8.2%__ increase in Precision is a crucial improvement. It means that when the new model flags an applicant as high-risk, it is significantly more accurate than the baseline. This saves the work of manually reviewing good customers who were incorrectly flagged.\n",
    "\n",
    "__Fewer Missed Risks:__ The most dramatic gain is the 32.7% increase in Recall. The tuned model now correctly identifies 65% of all customers who will actually default, a massive improvement over the baseline's 49%. This directly translates to preventing more financial losses by catching a larger portion of high-risk loans."
   ]
  },
  {
   "cell_type": "markdown",
   "id": "0a9ee825-33e4-42dd-b33e-a4cfec051bce",
   "metadata": {},
   "source": [
    "## Conclusion & Business Recommendations"
   ]
  },
  {
   "cell_type": "markdown",
   "id": "86dd8b91-5a9d-49a3-b94f-8558ff7c9108",
   "metadata": {},
   "source": [
    "### Problem Statement: \n",
    "\n",
    "The goal of this project was to build a model to predict the defaulting behaviour of customers in the given dataset\n",
    "\n",
    "### Solution & Business Impact:\n",
    "\n",
    "The final, tuned model provides a significant opportunity to improve the loan underwriting process and reduce credit losses. The model correctly identifies 65% of all customers who will ultimately default (Recall of 0.65). When the model flags an applicant as high-risk, it is correct 53% of the time (Precision of 0.53). This ensures that while capturing the majority of defaulters, it is done with a reasonable degree of accuracy, minimizing the number of good customers who are incorrectly flagged. \n",
    "\n",
    "With a ROC AUC score of 0.7845, the model demonstrates a strong ability to differentiate between high-risk and low-risk applicants across all decision thresholds.\n",
    "\n",
    "### Actionable Recommendations:\n",
    "\n",
    "The model can be deployed in live underwriting giving the customers a score between 1-10. Depending on the performance in each of these scores, the customers can be categorized into 3-4 buckets - low-risk, medium-risk, high-risk, very high-risk. The customers in each of these categories can be handled separately with different measure like - low loan amount, high interest rates, high processing fees, etc. With such a system, the number of customers rejected would also be less at the same time ensuring that if very risky customers who are false positives aren't denied loans completely.\n",
    "\n",
    "To validate the model's real-world impact, a champion-challenger (A/B) test should be conducted. A small percentage of applications could be decided using the model's recommendations, and their performance (default rates, profitability) would be measured against the current manual process.\n",
    "\n",
    "For future iterations, the variables engineered in the Feature Engineering Task can also be incorporated into this model to generate a more robust model with an even better predictive capability.\n"
   ]
  },
  {
   "cell_type": "code",
   "execution_count": null,
   "id": "fbc3b3f6-0b08-4743-adff-1f46caf3185b",
   "metadata": {},
   "outputs": [],
   "source": []
  },
  {
   "cell_type": "code",
   "execution_count": null,
   "id": "11f04c52-79d2-4d27-aad3-0cb072948265",
   "metadata": {},
   "outputs": [],
   "source": []
  },
  {
   "cell_type": "code",
   "execution_count": null,
   "id": "ebd13441-27b3-4dce-807b-5f067656970e",
   "metadata": {},
   "outputs": [],
   "source": []
  },
  {
   "cell_type": "code",
   "execution_count": null,
   "id": "8e269963-1d98-4f0e-875c-e6e3490a7a4f",
   "metadata": {},
   "outputs": [],
   "source": []
  }
 ],
 "metadata": {
  "kernelspec": {
   "display_name": "Python 3 (ipykernel)",
   "language": "python",
   "name": "python3"
  },
  "language_info": {
   "codemirror_mode": {
    "name": "ipython",
    "version": 3
   },
   "file_extension": ".py",
   "mimetype": "text/x-python",
   "name": "python",
   "nbconvert_exporter": "python",
   "pygments_lexer": "ipython3",
   "version": "3.12.4"
  }
 },
 "nbformat": 4,
 "nbformat_minor": 5
}
